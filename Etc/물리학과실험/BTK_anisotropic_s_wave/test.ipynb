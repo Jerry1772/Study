{
 "cells": [
  {
   "cell_type": "code",
   "execution_count": 2,
   "metadata": {},
   "outputs": [],
   "source": [
    "# import scipy.constants\n",
    "# import matplotlib.pyplot as plt\n",
    "import numpy as np\n",
    "from BTK_anisotropic_s_wave import anis_s_wave\n",
    "\n",
    "a = anis_s_wave(voltage=np.linspace(0.001,10,1999), temp=1)"
   ]
  },
  {
   "cell_type": "code",
   "execution_count": 3,
   "metadata": {},
   "outputs": [
    {
     "data": {
      "text/plain": [
       "(array([[-2.92599989e-04, -2.90627556e-04, -2.88655122e-04, ...,\n",
       "         -2.65226698e-06, -6.79833496e-07,  1.29259999e-06],\n",
       "        [ 4.71190452e-03,  4.68033309e-03,  4.64876165e-03, ...,\n",
       "          7.09042828e-05,  3.93328526e-05,  7.76142246e-06],\n",
       "        [ 9.71640902e-03,  9.65129373e-03,  9.58617843e-03, ...,\n",
       "          1.44460833e-04,  7.93455387e-05,  1.42302449e-05],\n",
       "        ...,\n",
       "        [ 9.98869839e+00,  9.92174681e+00,  9.85479523e+00, ...,\n",
       "          1.46816221e-01,  7.98646416e-02,  1.29130622e-02],\n",
       "        [ 9.99370290e+00,  9.92671777e+00,  9.85973265e+00, ...,\n",
       "          1.46889778e-01,  7.99046543e-02,  1.29195311e-02],\n",
       "        [ 9.99870740e+00,  9.93168873e+00,  9.86467007e+00, ...,\n",
       "          1.46963334e-01,  7.99446670e-02,  1.29259999e-02]]),\n",
       " array([ 1.97243349e-06, -3.15714302e-05, -6.51152938e-05, ...,\n",
       "        -6.69515794e-02, -6.69851233e-02, -6.70186671e-02]))"
      ]
     },
     "execution_count": 3,
     "metadata": {},
     "output_type": "execute_result"
    }
   ],
   "source": [
    "np.linspace(a.b_array, a.a_array, 150, retstep=True, axis=1)"
   ]
  },
  {
   "cell_type": "code",
   "execution_count": 5,
   "metadata": {},
   "outputs": [
    {
     "data": {
      "text/plain": [
       "array([1, 4, 9])"
      ]
     },
     "execution_count": 5,
     "metadata": {},
     "output_type": "execute_result"
    }
   ],
   "source": [
    "np.array([1,2,3])**2"
   ]
  },
  {
   "cell_type": "code",
   "execution_count": 6,
   "metadata": {},
   "outputs": [
    {
     "data": {
      "text/plain": [
       "array([[ 1,  4,  9],\n",
       "       [16, 25, 36]])"
      ]
     },
     "execution_count": 6,
     "metadata": {},
     "output_type": "execute_result"
    }
   ],
   "source": [
    "np.array([[1,2,3], [4,5,6]])**2"
   ]
  },
  {
   "cell_type": "code",
   "execution_count": 13,
   "metadata": {},
   "outputs": [
    {
     "data": {
      "text/plain": [
       "(1999, 512)"
      ]
     },
     "execution_count": 13,
     "metadata": {},
     "output_type": "execute_result"
    }
   ],
   "source": [
    "a = np.array([i for i in range(1999)])\n",
    "b = np.array([i for i in range(512)])\n",
    "\n",
    "(np.expand_dims(a, axis=1)-b).shape"
   ]
  },
  {
   "cell_type": "code",
   "execution_count": 19,
   "metadata": {},
   "outputs": [],
   "source": [
    "import pickle\n",
    "with open('./new.pickle', 'rb') as f:\n",
    "    new_sigma = pickle.load(f)\n",
    "with open('./old.pickle', 'rb') as f:\n",
    "    old_sigma = pickle.load(f)\n",
    "old_sigma = np.array(old_sigma)"
   ]
  }
 ],
 "metadata": {
  "kernelspec": {
   "display_name": "ipykernel",
   "language": "python",
   "name": "python3"
  },
  "language_info": {
   "codemirror_mode": {
    "name": "ipython",
    "version": 3
   },
   "file_extension": ".py",
   "mimetype": "text/x-python",
   "name": "python",
   "nbconvert_exporter": "python",
   "pygments_lexer": "ipython3",
   "version": "3.10.12"
  }
 },
 "nbformat": 4,
 "nbformat_minor": 2
}
