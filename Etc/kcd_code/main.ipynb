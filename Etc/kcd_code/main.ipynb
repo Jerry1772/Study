{
 "cells": [
  {
   "cell_type": "code",
   "execution_count": 1,
   "metadata": {},
   "outputs": [],
   "source": [
    "import selenium.webdriver\n",
    "from selenium.webdriver.common.by import By\n",
    "from selenium.webdriver.support import expected_conditions as EC\n",
    "from selenium.webdriver.support.ui import WebDriverWait\n",
    "\n",
    "driver = selenium.webdriver.Chrome()\n",
    "driver.get('https://www.koicd.kr/kcd/kcd.do#')\n",
    "\n",
    "tables = driver.find_element(By.XPATH, '/html/body/div[2]/div')\n",
    "\n",
    "while True:\n",
    "    # try:\n",
    "    #     element = WebDriverWait(driver, 10).until(\n",
    "    #         EC.element_to_be_clickable((By.CLASS_NAME, 'icon-arrow-right'))\n",
    "    #     )\n",
    "    # except:\n",
    "    #     break\n",
    "\n",
    "    try:\n",
    "        elements = tables.find_elements(By.CLASS_NAME, 'icon-arrow-right')\n",
    "        for element in elements:\n",
    "            driver.execute_script(\"arguments[0].click();\", element)\n",
    "    except:\n",
    "        break\n",
    "    # element.click()\n",
    "\n",
    "    # for element in elements:\n",
    "    #     element.click()"
   ]
  },
  {
   "cell_type": "code",
   "execution_count": 1,
   "metadata": {},
   "outputs": [],
   "source": [
    "from bs4 import BeautifulSoup as bs\n",
    "import bs4\n",
    "\n",
    "html_path = r'C:\\Users\\user\\Desktop\\jk1772\\Study\\Etc\\kcd_code\\KOICD 질병분류정보센터 보험청구 및 보험분쟁시 필요한 질병코드 검색 - 한국표준질병사인분류표.html'\n",
    "with open(html_path, 'r') as f:\n",
    "    html = bs(f)\n",
    "\n",
    "div = html.find('div', {\"class\": \"side_menu\"})"
   ]
  },
  {
   "cell_type": "code",
   "execution_count": 2,
   "metadata": {},
   "outputs": [],
   "source": [
    "def parse(div:bs4.element.Tag, data_no:int) -> list:\n",
    "    result = []\n",
    "\n",
    "    for d in div.find_all(\"li\", {\"data-no\": str(data_no)}):\n",
    "        span = d.find_all(\"span\")\n",
    "        if len(span) >= 2:\n",
    "            result.append(span[1].string)\n",
    "        else:\n",
    "            result.append(span[0].string)\n",
    "    return result"
   ]
  },
  {
   "cell_type": "code",
   "execution_count": 4,
   "metadata": {},
   "outputs": [],
   "source": [
    "result = []\n",
    "\n",
    "for i in range(1, 10):\n",
    "    retrn = parse(div, i)\n",
    "    if not retrn:\n",
    "        break\n",
    "    result.extend(retrn)\n",
    "\n",
    "with open(\"result.txt\", 'w') as f:\n",
    "    for r in result:\n",
    "        f.write(r)\n",
    "        f.write('\\n')"
   ]
  }
 ],
 "metadata": {
  "kernelspec": {
   "display_name": "ipykernel",
   "language": "python",
   "name": "python3"
  },
  "language_info": {
   "codemirror_mode": {
    "name": "ipython",
    "version": 3
   },
   "file_extension": ".py",
   "mimetype": "text/x-python",
   "name": "python",
   "nbconvert_exporter": "python",
   "pygments_lexer": "ipython3",
   "version": "3.10.12"
  }
 },
 "nbformat": 4,
 "nbformat_minor": 2
}
