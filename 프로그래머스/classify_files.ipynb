{
 "cells": [
  {
   "cell_type": "markdown",
   "metadata": {},
   "source": [
    "예전에 무분별하게 풀어두었던 문제들을 분류해놓고 싶다는 생각에 시작함"
   ]
  },
  {
   "cell_type": "code",
   "execution_count": 32,
   "metadata": {},
   "outputs": [],
   "source": [
    "import os\n",
    "\n",
    "path = \"./Python\"\n",
    "\n",
    "# file 목록에서 py 파일만 추출 (sample 제외)\n",
    "file_list = [file for file in os.listdir(path) if (file.endswith(\".py\") and not file.startswith(\"sample\"))]"
   ]
  },
  {
   "cell_type": "code",
   "execution_count": 33,
   "metadata": {},
   "outputs": [],
   "source": [
    "import bs4\n",
    "import requests\n",
    "import shutil\n",
    "\n",
    "DEFAULT_URL = \"https://school.programmers.co.kr/learn/courses/30/lessons/\"\n",
    "\n",
    "for file in file_list:\n",
    "    file_id = file.split(\"_\")[0]    #문제 id 만 추출해서\n",
    "    \n",
    "    resp = requests.get(DEFAULT_URL+file_id)    #request 날려서 html 받아오고\n",
    "\n",
    "    parser = bs4.BeautifulSoup(resp.content)\n",
    "    \n",
    "    _, _class, title = list(parser.find(\"ol\", class_=\"breadcrumb\").children)    #breadcrumb로 문제 분류와 제목을 표현하고 있어서 따옴\n",
    "    _class = _class.text.replace(\":\", \"\").replace(\"/\", \"_\")   #여기는 일단 문제가 추가되며 예외상황이 더 붙을 수 있음\n",
    "    title = title.text.replace(\"/\", \"_\")\n",
    "\n",
    "    folder_path = os.path.join(path, _class)\n",
    "    if not os.path.exists(folder_path):\n",
    "        os.makedirs(folder_path)\n",
    "    \n",
    "    shutil.move(os.path.join(path, file), os.path.join(folder_path, f\"{file_id}_{title}.py\"))"
   ]
  }
 ],
 "metadata": {
  "kernelspec": {
   "display_name": "hyunjin",
   "language": "python",
   "name": "python3"
  },
  "language_info": {
   "codemirror_mode": {
    "name": "ipython",
    "version": 3
   },
   "file_extension": ".py",
   "mimetype": "text/x-python",
   "name": "python",
   "nbconvert_exporter": "python",
   "pygments_lexer": "ipython3",
   "version": "3.12.0"
  }
 },
 "nbformat": 4,
 "nbformat_minor": 2
}
