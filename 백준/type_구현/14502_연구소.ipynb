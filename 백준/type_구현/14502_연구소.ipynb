{
 "cells": [
  {
   "cell_type": "code",
   "execution_count": 5,
   "metadata": {},
   "outputs": [
    {
     "data": {
      "text/plain": [
       "[[2, 0, 0, 0, 1, 1, 0],\n",
       " [0, 0, 1, 0, 1, 2, 0],\n",
       " [0, 1, 1, 0, 1, 0, 0],\n",
       " [0, 1, 0, 0, 0, 0, 0],\n",
       " [0, 0, 0, 0, 0, 1, 1],\n",
       " [0, 1, 0, 0, 0, 0, 0],\n",
       " [0, 1, 0, 0, 0, 0, 0]]"
      ]
     },
     "execution_count": 5,
     "metadata": {},
     "output_type": "execute_result"
    }
   ],
   "source": [
    "input_path = r\"C:\\Users\\user\\Desktop\\jk1772\\Study\\백준\\type_구현\\14502_연구소.input\"\n",
    "\n",
    "_map_original = []\n",
    "\n",
    "with open(input_path, 'r') as f:\n",
    "    N, M = list(map(int, f.readline().strip().split()))\n",
    "    while True:\n",
    "        line = f.readline()\n",
    "        if not line:\n",
    "            break\n",
    "        _map_original.append(list(map(int, line.strip().split())))\n",
    "_map_original"
   ]
  },
  {
   "cell_type": "code",
   "execution_count": 8,
   "metadata": {},
   "outputs": [
    {
     "data": {
      "text/plain": [
       "[(0, 1),\n",
       " (0, 2),\n",
       " (0, 3),\n",
       " (0, 6),\n",
       " (1, 0),\n",
       " (1, 1),\n",
       " (1, 3),\n",
       " (1, 6),\n",
       " (2, 0),\n",
       " (2, 3),\n",
       " (2, 5),\n",
       " (2, 6),\n",
       " (3, 0),\n",
       " (3, 2),\n",
       " (3, 3),\n",
       " (3, 4),\n",
       " (3, 5),\n",
       " (3, 6),\n",
       " (4, 0),\n",
       " (4, 1),\n",
       " (4, 2),\n",
       " (4, 3),\n",
       " (4, 4),\n",
       " (5, 0),\n",
       " (5, 2),\n",
       " (5, 3),\n",
       " (5, 4),\n",
       " (5, 5),\n",
       " (5, 6),\n",
       " (6, 0),\n",
       " (6, 2),\n",
       " (6, 3),\n",
       " (6, 4),\n",
       " (6, 5),\n",
       " (6, 6)]"
      ]
     },
     "execution_count": 8,
     "metadata": {},
     "output_type": "execute_result"
    }
   ],
   "source": [
    "from copy import deepcopy\n",
    "from itertools import combinations\n",
    "zeros = set()\n",
    "ones = set()\n",
    "twoes = set()\n",
    "for i in range(len(_map_original)):\n",
    "    for j in range(len(_map_original[0])):\n",
    "        if _map_original[i][j] == 0:\n",
    "            zeros.add((i,j))\n",
    "        elif _map_original[i][j] == 1:\n",
    "            ones.add((i,j))\n",
    "        else:\n",
    "            twoes\n",
    "zeros = [(i,j) for i in range(len(_map_original)) for j in range(len(_map_original[0])) if _map_original[i][j]==0]\n",
    "candidates = combinations(zeros, 3)\n",
    "\n",
    "_map = deepcopy(_map_original)"
   ]
  }
 ],
 "metadata": {
  "kernelspec": {
   "display_name": "hyunjin",
   "language": "python",
   "name": "python3"
  },
  "language_info": {
   "codemirror_mode": {
    "name": "ipython",
    "version": 3
   },
   "file_extension": ".py",
   "mimetype": "text/x-python",
   "name": "python",
   "nbconvert_exporter": "python",
   "pygments_lexer": "ipython3",
   "version": "3.12.0"
  }
 },
 "nbformat": 4,
 "nbformat_minor": 2
}
