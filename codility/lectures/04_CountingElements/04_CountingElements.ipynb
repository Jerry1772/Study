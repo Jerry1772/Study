{
 "cells": [
  {
   "cell_type": "markdown",
   "id": "23a45566-79f0-4954-8d4c-afed532e6c38",
   "metadata": {},
   "source": [
    "두 배열 A, B 에 대해, A와 B의 원소를 바꿔 A와 B 각 sum을 같게 만들 수 있는지 찾고 싶다면\n",
    "\n",
    "일반적으로 다음(slow_solution) 과 같은 방법을 이용해 O(n*m) 방법을 고려할 것이다."
   ]
  },
  {
   "cell_type": "code",
   "execution_count": 6,
   "id": "93474e12-a9d1-451a-8d1c-87ba34224624",
   "metadata": {},
   "outputs": [],
   "source": [
    "def slow_solution(A, B):\n",
    "    sum_a = sum(A)\n",
    "    sum_b = sum(B)\n",
    "    for i in range(len(A)):\n",
    "        for j in range(len(A)):\n",
    "            change = B[j] - A[i]\n",
    "            if sum_a+change == sum_b-change:\n",
    "                return True\n",
    "    return False"
   ]
  },
  {
   "cell_type": "code",
   "execution_count": 9,
   "id": "5b3a7eb8-c22e-498b-bdc0-4b6178e53b55",
   "metadata": {},
   "outputs": [
    {
     "data": {
      "text/plain": [
       "True"
      ]
     },
     "execution_count": 9,
     "metadata": {},
     "output_type": "execute_result"
    }
   ],
   "source": [
    "slow_solution([1,3,4,4,4], [1,3,6,4,6])"
   ]
  },
  {
   "cell_type": "markdown",
   "id": "085840a9-6bb1-4ca2-a33b-9e35018c3cd6",
   "metadata": {},
   "source": [
    "하지만, 미리 A의 원소 등장 횟수를 count 해 두고, B의 원소 b, A와 B의 차이 d에 대해 b-d에 해당하는 A의 원소가 있는지 확인한다면 \n",
    "\n",
    "O(n+m) 의 시간복잡도로 해결 가능하다."
   ]
  },
  {
   "cell_type": "code",
   "execution_count": 4,
   "id": "d7edc49d-8954-475c-a85a-36e6fe5d8bba",
   "metadata": {},
   "outputs": [],
   "source": [
    "def fast_solution(A, B):\n",
    "    # 미리 카운트 해 두기\n",
    "    count_A = dict()\n",
    "    for a in A:\n",
    "        count_A[a] = count_A.get(a, 0)+1\n",
    "\n",
    "    sum_a = sum(A)\n",
    "    sum_b = sum(B)\n",
    "    max_b = max(B)\n",
    "    d = sum_b - sum_a\n",
    "    if d%2 == 1: # 차이가 홀수라면 성립될 수 없다\n",
    "        return False\n",
    "    d //= 2\n",
    "    for b in B:\n",
    "        if 0<=b-d<=max_b and b in count_A:\n",
    "            return True\n",
    "    return False"
   ]
  },
  {
   "cell_type": "code",
   "execution_count": 8,
   "id": "351de982-78f3-4312-ac1a-920bcc072499",
   "metadata": {},
   "outputs": [
    {
     "data": {
      "text/plain": [
       "True"
      ]
     },
     "execution_count": 8,
     "metadata": {},
     "output_type": "execute_result"
    }
   ],
   "source": [
    "fast_solution([1,3,4,4,4], [1,3,4,6,6])"
   ]
  },
  {
   "cell_type": "markdown",
   "id": "16385721-1310-4c5c-815c-fc2f8f3704e3",
   "metadata": {},
   "source": [
    "# FrogRiverOne"
   ]
  },
  {
   "cell_type": "markdown",
   "id": "50a23104-ad99-4503-b35a-d389ebebb473",
   "metadata": {},
   "source": [
    "A small frog wants to get to the other side of a river. The frog is initially located on one bank of the river (position 0) and wants to get to the opposite bank (position X+1). Leaves fall from a tree onto the surface of the river.\n",
    "\n",
    "You are given an array A consisting of N integers representing the falling leaves. A[K] represents the position where one leaf falls at time K, measured in seconds.\n",
    "\n",
    "The goal is to find the earliest time when the frog can jump to the other side of the river. The frog can cross only when leaves appear at every position across the river from 1 to X (that is, we want to find the earliest moment when all the positions from 1 to X are covered by leaves). You may assume that the speed of the current in the river is negligibly small, i.e. the leaves do not change their positions once they fall in the river.\n",
    "\n",
    "For example, you are given integer X = 5 and array A such that:\n",
    "\n",
    "  A[0] = 1\n",
    "  A[1] = 3\n",
    "  A[2] = 1\n",
    "  A[3] = 4\n",
    "  A[4] = 2\n",
    "  A[5] = 3\n",
    "  A[6] = 5\n",
    "  A[7] = 4\n",
    "In second 6, a leaf falls into position 5. This is the earliest time when leaves appear in every position across the river.\n",
    "\n",
    "Write a function:\n",
    "\n",
    "def solution(X, A)\n",
    "\n",
    "that, given a non-empty array A consisting of N integers and integer X, returns the earliest time when the frog can jump to the other side of the river.\n",
    "\n",
    "If the frog is never able to jump to the other side of the river, the function should return −1.\n",
    "\n",
    "For example, given X = 5 and array A such that:\n",
    "\n",
    "  A[0] = 1\n",
    "  A[1] = 3\n",
    "  A[2] = 1\n",
    "  A[3] = 4\n",
    "  A[4] = 2\n",
    "  A[5] = 3\n",
    "  A[6] = 5\n",
    "  A[7] = 4\n",
    "the function should return 6, as explained above.\n",
    "\n",
    "Write an efficient algorithm for the following assumptions:\n",
    "\n",
    "N and X are integers within the range [1..100,000];\n",
    "each element of array A is an integer within the range [1..X]."
   ]
  },
  {
   "cell_type": "code",
   "execution_count": null,
   "id": "7c202824-a3f0-48d7-b7ba-ed91c61ef1d4",
   "metadata": {},
   "outputs": [],
   "source": [
    "def solution(X, A):\n",
    "    if len(set(A)) != X:\n",
    "        return -1\n",
    "    else:\n",
    "        leave_position = [0]*X\n",
    "        for time, position in enumerate(A):\n",
    "            if leave_position[position-1] ==0:\n",
    "                leave_position[position-1] = 1\n",
    "                X -= 1\n",
    "            if X == 0:\n",
    "                return time    \n",
    "# leave_position 숫자가 1이 아니면, 1로 바꾸면서 count 를 하나 줄인다"
   ]
  },
  {
   "cell_type": "code",
   "execution_count": 11,
   "id": "f3fd62b4-1cdb-4f7e-9cd1-48fc72ca9f90",
   "metadata": {},
   "outputs": [
    {
     "data": {
      "text/plain": [
       "6"
      ]
     },
     "execution_count": 11,
     "metadata": {},
     "output_type": "execute_result"
    }
   ],
   "source": [
    "# 1부터 X까지 모든 숫자가 최소 1번은 등장하는 타이밍을 찾아야 한다.\n",
    "# X까지의 숫자 집합을 가지고 있다가, 숫자가 등장하면 집합에서 해당 숫자를 제외하고, 집합이 비는 타이밍이 정답이 된다.\n",
    "def solution(X, A):\n",
    "    s = set([i for i in range(1, X+1)]) # ex) [1,2,3,4,5]\n",
    "    for idx, a in enumerate(A):\n",
    "        s.discard(a) # remove: 제거하는데 집합에 없으면 에러, discard: 제거하는데 집합에 없으면 패스\n",
    "        if not s:\n",
    "            return idx\n",
    "    return -1\n",
    "solution(5, [1,3,1,4,2,3,5,4])"
   ]
  },
  {
   "cell_type": "markdown",
   "id": "1cc84e27-6099-4e37-9978-39232f62bbc4",
   "metadata": {},
   "source": [
    "# PermCheck"
   ]
  },
  {
   "cell_type": "markdown",
   "id": "55d3ebf9-4c5e-49d0-9cee-119688f8fdf6",
   "metadata": {},
   "source": [
    "A non-empty array A consisting of N integers is given.\n",
    "\n",
    "A permutation is a sequence containing each element from 1 to N once, and only once.\n",
    "\n",
    "For example, array A such that:\n",
    "\n",
    "    A[0] = 4\n",
    "    A[1] = 1\n",
    "    A[2] = 3\n",
    "    A[3] = 2\n",
    "is a permutation, but array A such that:\n",
    "\n",
    "    A[0] = 4\n",
    "    A[1] = 1\n",
    "    A[2] = 3\n",
    "is not a permutation, because value 2 is missing.\n",
    "\n",
    "The goal is to check whether array A is a permutation.\n",
    "\n",
    "Write a function:\n",
    "\n",
    "def solution(A)\n",
    "\n",
    "that, given an array A, returns 1 if array A is a permutation and 0 if it is not.\n",
    "\n",
    "For example, given array A such that:\n",
    "\n",
    "    A[0] = 4\n",
    "    A[1] = 1\n",
    "    A[2] = 3\n",
    "    A[3] = 2\n",
    "the function should return 1.\n",
    "\n",
    "Given array A such that:\n",
    "\n",
    "    A[0] = 4\n",
    "    A[1] = 1\n",
    "    A[2] = 3\n",
    "the function should return 0.\n",
    "\n",
    "Write an efficient algorithm for the following assumptions:\n",
    "\n",
    "N is an integer within the range [1..100,000];\n",
    "each element of array A is an integer within the range [1..1,000,000,000]."
   ]
  },
  {
   "cell_type": "code",
   "execution_count": 12,
   "id": "5576ca15-6e8f-4b8a-80bc-df18d589b4db",
   "metadata": {},
   "outputs": [],
   "source": [
    "# length만큼의 숫자가 한번씩 들어있는지 체크하면 된다.\n",
    "# 단순히 set에 집어넣어서 마지막에 set의 사이즈를 재는 방식으로 풀면 될 것 같다.\n",
    "# 단, 중복되는 경우 조건을 만족할 수 없으니 early stop 을 위해 넣으려는 원소가 이미 set 내에 있으면 탈출시켜도 될 것 같다.\n",
    "\n",
    "def solution(A):\n",
    "    s = set()\n",
    "    \n",
    "    for a in A:\n",
    "        if a in s or a>len(A): # early stop 을 위해, 이미 원소가 들어있거나 length 보다 크면 탈출\n",
    "            return 0\n",
    "        s.add(a)\n",
    "        \n",
    "    if len(A) == len(s):\n",
    "        return 1\n",
    "    return 0"
   ]
  },
  {
   "cell_type": "code",
   "execution_count": null,
   "id": "2512de59-c11d-4fb8-a889-048fcf270de0",
   "metadata": {},
   "outputs": [],
   "source": [
    "def solution(A)\n",
    "    set_a = set(A)\n",
    "    if len(A) == len(set_a) and len(set_a) == max(A): # 2번 포함도 안되고, 최대값 이전에 모든 숫자가 포함되어 있어야 함 > 주어진 리스트 길이 == 안에 포함된 원소의 종류 개수 == 최대숫자\n",
    "        return 1\n",
    "    else:\n",
    "        return 0\n",
    "A = [1,1] # 0\n",
    "solution(A)"
   ]
  },
  {
   "cell_type": "markdown",
   "id": "9bf300ce-b997-4d8c-9961-e55c0cd14da5",
   "metadata": {},
   "source": [
    "# MaxCounters"
   ]
  },
  {
   "cell_type": "markdown",
   "id": "317a9b65-b68a-4474-8d1a-e537b4a79fa5",
   "metadata": {},
   "source": [
    "You are given N counters, initially set to 0, and you have two possible operations on them:\n",
    "\n",
    "increase(X) − counter X is increased by 1,\n",
    "max counter − all counters are set to the maximum value of any counter.\n",
    "A non-empty array A of M integers is given. This array represents consecutive operations:\n",
    "\n",
    "if A[K] = X, such that 1 ≤ X ≤ N, then operation K is increase(X),\n",
    "if A[K] = N + 1 then operation K is max counter.\n",
    "For example, given integer N = 5 and array A such that:\n",
    "\n",
    "    A[0] = 3\n",
    "    A[1] = 4\n",
    "    A[2] = 4\n",
    "    A[3] = 6\n",
    "    A[4] = 1\n",
    "    A[5] = 4\n",
    "    A[6] = 4\n",
    "the values of the counters after each consecutive operation will be:\n",
    "\n",
    "    (0, 0, 1, 0, 0)\n",
    "    (0, 0, 1, 1, 0)\n",
    "    (0, 0, 1, 2, 0)\n",
    "    (2, 2, 2, 2, 2)\n",
    "    (3, 2, 2, 2, 2)\n",
    "    (3, 2, 2, 3, 2)\n",
    "    (3, 2, 2, 4, 2)\n",
    "The goal is to calculate the value of every counter after all operations.\n",
    "\n",
    "Write a function:\n",
    "\n",
    "def solution(N, A)\n",
    "\n",
    "that, given an integer N and a non-empty array A consisting of M integers, returns a sequence of integers representing the values of the counters.\n",
    "\n",
    "Result array should be returned as an array of integers.\n",
    "\n",
    "For example, given:\n",
    "\n",
    "    A[0] = 3\n",
    "    A[1] = 4\n",
    "    A[2] = 4\n",
    "    A[3] = 6\n",
    "    A[4] = 1\n",
    "    A[5] = 4\n",
    "    A[6] = 4\n",
    "the function should return [3, 2, 2, 4, 2], as explained above.\n",
    "\n",
    "Write an efficient algorithm for the following assumptions:\n",
    "\n",
    "N and M are integers within the range [1..100,000];\n",
    "each element of array A is an integer within the range [1..N + 1]."
   ]
  },
  {
   "cell_type": "code",
   "execution_count": 15,
   "id": "715f812f-2aab-4839-9862-868a8ad41c7b",
   "metadata": {},
   "outputs": [
    {
     "data": {
      "text/plain": [
       "[3, 2, 2, 4, 2]"
      ]
     },
     "execution_count": 15,
     "metadata": {},
     "output_type": "execute_result"
    }
   ],
   "source": [
    "# 어차피 다 카운트 해야할 것 같은데, N+1 의 숫자가 마지막으로 등장한 순간부터만 제대로 카운트하면 될 것 같다.\n",
    "# 그 전까지는 max 치만 저장해둬도 될 것 같다.\n",
    "def solution(N, A):\n",
    "    counter = dict()\n",
    "    flag = N+1 # 그냥 N+1 여러번 계산 안하게 선언\n",
    "    local_max = 0 # N+1 이 등장하기 전까지 가장 자주 등장한 값\n",
    "    global_max = 0 # N+1 이 여러번 등장했을 때, local_max 들의 합\n",
    "    \n",
    "    for a in A:\n",
    "        if a == flag: # N+1 이 등장해서 모든 값을 max로 바꾸면, counter를 초기화하고 global_max 에 지금까지의 최빈값(local_max) 를 더해준다.\n",
    "            counter = dict()\n",
    "            global_max += local_max\n",
    "            local_max = 0\n",
    "        else: # N+1 이 등장하지 않을 때에는 계속 counting 해주면서 local_max 에다가 최빈값을 갱신해가며 유지한다.\n",
    "            counter[a] = counter.get(a, 0)+1\n",
    "            local_max = max(local_max, counter[a])\n",
    "    \n",
    "    answer = [global_max for _ in range(N)] # 지금 시점에서 counter는 마지막으로 N+1이 등장하고 나서의 출현 수가 저장되어 있다. 그러므로 global_max로 초기화 해 주고 거기다가 값을 더해야 한다.\n",
    "    for idx, val in counter.items():\n",
    "        answer[idx-1] += val # 그냥 문제에서 idx 0을 1로 표현해서, 보정해준다.\n",
    "\n",
    "    return answer\n",
    "\n",
    "solution(5, [3,4,4,6,1,4,4])"
   ]
  },
  {
   "cell_type": "code",
   "execution_count": 8,
   "id": "9762e46b-1e9a-47b8-9d4c-2e5bdcacca51",
   "metadata": {},
   "outputs": [
    {
     "name": "stdout",
     "output_type": "stream",
     "text": [
      "2.63 µs ± 102 ns per loop (mean ± std. dev. of 7 runs, 100,000 loops each)\n"
     ]
    }
   ],
   "source": [
    "%%timeit\n",
    "# 1과 N 사이 일때는 해당 counter를 +1 / N+1일 때는 전체 counter를 현재 max값으로 동일하게 세팅\n",
    "# Timeout 발생\n",
    "def solution(N, A):\n",
    "    counter_list = [0] * N\n",
    "    max_num = 0\n",
    "    for X in A:\n",
    "        if 1 <= X <= N:\n",
    "            counter_list[X-1] += 1\n",
    "            if counter_list[X-1] > max_num:\n",
    "                max_num = counter_list[X-1]\n",
    "        elif X == N+1:\n",
    "            counter_list = [max_num for i in range(N)]\n",
    "    return counter_list\n",
    "solution(5,[3,4,4,6,1,4,4])"
   ]
  },
  {
   "cell_type": "markdown",
   "id": "fc4d4458-d1ec-47df-907c-634c219c9e62",
   "metadata": {},
   "source": [
    "# MissingInteger"
   ]
  },
  {
   "cell_type": "markdown",
   "id": "e78de2d5-d1af-487d-b20c-b55adf9a906b",
   "metadata": {},
   "source": [
    "Write a function:\n",
    "\n",
    "def solution(A)\n",
    "\n",
    "that, given an array A of N integers, returns the smallest positive integer (greater than 0) that does not occur in A.\n",
    "\n",
    "For example, given A = [1, 3, 6, 4, 1, 2], the function should return 5.\n",
    "\n",
    "Given A = [1, 2, 3], the function should return 4.\n",
    "\n",
    "Given A = [−1, −3], the function should return 1.\n",
    "\n",
    "Write an efficient algorithm for the following assumptions:\n",
    "\n",
    "N is an integer within the range [1..100,000];\n",
    "each element of array A is an integer within the range [−1,000,000..1,000,000]."
   ]
  },
  {
   "cell_type": "code",
   "execution_count": null,
   "id": "f9989bba-a17b-4b8d-8d95-fbd9fc635ae5",
   "metadata": {},
   "outputs": [],
   "source": [
    "# 모든 수를 다 보고 나서야 빠진 수를 확인할 수 있으니, O(n) 으로 해결한다.\n",
    "# 양수를 set에 담아놓고, 담는 과정에서 minimum 양수를 체크해둔다.\n",
    "# minimum 양수가 1보다 크면 1을 반환하고 (early stop), 아니면 루프돈다.\n",
    "def solution(A):\n",
    "    s = set()\n",
    "    minimum = 1e+7\n",
    "    for a in A:\n",
    "        if a>0:\n",
    "            minimum = min(minimum, a)\n",
    "            s.add(a)\n",
    "    if minimum>1:\n",
    "        return 1\n",
    "    for i in range(1, 1000001):\n",
    "        if i not in s:\n",
    "            return i"
   ]
  }
 ],
 "metadata": {
  "kernelspec": {
   "display_name": "Python 3 (ipykernel)",
   "language": "python",
   "name": "python3"
  },
  "language_info": {
   "codemirror_mode": {
    "name": "ipython",
    "version": 3
   },
   "file_extension": ".py",
   "mimetype": "text/x-python",
   "name": "python",
   "nbconvert_exporter": "python",
   "pygments_lexer": "ipython3",
   "version": "3.9.19"
  }
 },
 "nbformat": 4,
 "nbformat_minor": 5
}
