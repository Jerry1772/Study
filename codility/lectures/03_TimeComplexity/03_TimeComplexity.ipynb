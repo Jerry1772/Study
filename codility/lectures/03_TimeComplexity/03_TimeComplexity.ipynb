{
 "cells": [
  {
   "cell_type": "markdown",
   "id": "5aca483c-9e52-4218-88e1-62a6d8e2fcf4",
   "metadata": {},
   "source": [
    "# FrogJmp"
   ]
  },
  {
   "cell_type": "code",
   "execution_count": null,
   "id": "c0bb8c08-a943-40a7-a48f-026005086cc1",
   "metadata": {},
   "outputs": [],
   "source": [
    "def solution(X, Y, D):\n",
    "    distance = Y-X\n",
    "    answer = distance//D\n",
    "    if distance%D:\n",
    "        answer += 1\n",
    "    return answer"
   ]
  },
  {
   "cell_type": "markdown",
   "id": "48dd1bb2-90e4-4067-900f-548150e84fb5",
   "metadata": {},
   "source": [
    "# PermMissingElem"
   ]
  },
  {
   "cell_type": "code",
   "execution_count": 4,
   "id": "436e23a0-b200-4d7c-882d-d777a5d370af",
   "metadata": {},
   "outputs": [],
   "source": [
    "def solution(A):\n",
    "    s = set([i+1 for i in range(len(A)+1)])\n",
    "    for a in A:\n",
    "        s.remove(a)\n",
    "    return s.pop()"
   ]
  },
  {
   "cell_type": "markdown",
   "id": "8ec91698-6c70-4ff9-b541-5119da70086a",
   "metadata": {},
   "source": [
    "# TapeEquilibrium"
   ]
  },
  {
   "cell_type": "code",
   "execution_count": 16,
   "id": "ea624951-c32e-4fef-81e5-3ef608e4be9c",
   "metadata": {},
   "outputs": [],
   "source": [
    "# 누적합 버전\n",
    "def solution(A):\n",
    "    cumul = []\n",
    "    answer = 1e+9\n",
    "    for idx, val in enumerate(A):\n",
    "        cumul.append(val+cumul[idx-1]) if idx else cumul.append(val)\n",
    "\n",
    "    for idx in range(len(cumul)-1):\n",
    "        answer = min(answer, (abs(cumul[-1]-2*cumul[idx])))\n",
    "    return answer"
   ]
  },
  {
   "cell_type": "code",
   "execution_count": 17,
   "id": "4b99c85a-5d8c-440e-a37f-87848444da67",
   "metadata": {},
   "outputs": [],
   "source": [
    "# indexing 버전\n",
    "def solution(A):\n",
    "    left_sum = A[0]\n",
    "    right_sum = sum(A[1:])\n",
    "    answer = abs(left_sum-right_sum)\n",
    "\n",
    "    for idx in range(1, len(A)-1):\n",
    "        left_sum += A[idx]\n",
    "        right_sum -= A[idx]\n",
    "        answer = min(answer, abs(left_sum-right_sum))\n",
    "    return answer"
   ]
  }
 ],
 "metadata": {
  "kernelspec": {
   "display_name": "Python 3 (ipykernel)",
   "language": "python",
   "name": "python3"
  },
  "language_info": {
   "codemirror_mode": {
    "name": "ipython",
    "version": 3
   },
   "file_extension": ".py",
   "mimetype": "text/x-python",
   "name": "python",
   "nbconvert_exporter": "python",
   "pygments_lexer": "ipython3",
   "version": "3.9.19"
  }
 },
 "nbformat": 4,
 "nbformat_minor": 5
}
