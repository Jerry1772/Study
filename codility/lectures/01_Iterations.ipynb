{
 "cells": [
  {
   "cell_type": "markdown",
   "id": "3872dfca-d3be-43bf-92d1-058a857995cf",
   "metadata": {},
   "source": [
    "# BinaryGap"
   ]
  },
  {
   "cell_type": "code",
   "execution_count": 8,
   "id": "e276fc18-6bde-40ab-ae07-d18fd7d9b4f0",
   "metadata": {},
   "outputs": [],
   "source": [
    "def solution(N):\n",
    "    binary_str = bin(N)[2:]\n",
    "    count = 0\n",
    "    answer = 0\n",
    "    for s in binary_str:\n",
    "        if s==\"0\":\n",
    "            count += 1\n",
    "        if s==\"1\":\n",
    "            answer = max(answer, count)\n",
    "            count = 0\n",
    "    return answer"
   ]
  },
  {
   "cell_type": "code",
   "execution_count": 9,
   "id": "57d38b07-70a7-4446-8213-b28c9875850f",
   "metadata": {},
   "outputs": [
    {
     "data": {
      "text/plain": [
       "5"
      ]
     },
     "execution_count": 9,
     "metadata": {},
     "output_type": "execute_result"
    }
   ],
   "source": [
    "solution(1041)"
   ]
  }
 ],
 "metadata": {
  "kernelspec": {
   "display_name": "Python 3 (ipykernel)",
   "language": "python",
   "name": "python3"
  },
  "language_info": {
   "codemirror_mode": {
    "name": "ipython",
    "version": 3
   },
   "file_extension": ".py",
   "mimetype": "text/x-python",
   "name": "python",
   "nbconvert_exporter": "python",
   "pygments_lexer": "ipython3",
   "version": "3.9.19"
  }
 },
 "nbformat": 4,
 "nbformat_minor": 5
}
