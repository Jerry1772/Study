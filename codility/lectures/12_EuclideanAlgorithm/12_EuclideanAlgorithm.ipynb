{
 "cells": [
  {
   "attachments": {
    "1b7f54ba-06eb-4d2b-9b29-7370f44aeef2.png": {
     "image/png": "[encoded data removed]"
    }
   },
   "cell_type": "markdown",
   "id": "8e56ba1a-315c-4e6f-a17c-ff3543ba2bae",
   "metadata": {},
   "source": [
    "# Euclidean Algorithm (GCD)\n",
    "1. Subtraction $O(n)$\n",
    "```python\n",
    "def gcd(a, b):\n",
    "    if a==b:\n",
    "        return a\n",
    "    if a>b:\n",
    "        return gcd(a-b, b)\n",
    "    else:\n",
    "        return gcd(a, b-a)\n",
    "```\n",
    "\n",
    "2. Division $O(\\log{a+b})$\n",
    "![image.png](attachment:1b7f54ba-06eb-4d2b-9b29-7370f44aeef2.png)\n",
    "```python\n",
    "def gcd(a, b):\n",
    "    if a%b == 0:\n",
    "        return b\n",
    "    else:\n",
    "        return gcd(b, a%b)\n",
    "```\n",
    "\n",
    "3. Binary $O(\\log^2(ab))$\n",
    "very large integer 에 대해, subtraction이나 division이 constant time에 일어나지 못하는 경우 유용하다. (bit >> 연산이 더 빨라서)\n",
    "하지만, 파이썬은 assembly call stack 확인해보면 bit연산이 딱히 빠르지는 않아 애매하다.\n",
    "```python\n",
    "def gcd(a, b, res=1):\n",
    "    if a==b:\n",
    "        return res*a\n",
    "    elif a%2==0 and b%2==0:\n",
    "        return gcd(a>>1, b>>1, 2*res)\n",
    "    elif a%2==0:\n",
    "        return gcd(a>>1, b, res)\n",
    "    elif b%2==0:\n",
    "        return gcd(a, b>>1, res)\n",
    "    elif a>b:\n",
    "        return gcd(a-b, b, res)\n",
    "    else:\n",
    "        return gcd(a, b-a, res)\n",
    "```\n",
    "\n",
    "# LCM\n",
    "$GCD \\times LCM = A \\times B$"
   ]
  },
  {
   "cell_type": "markdown",
   "id": "2fdeb979-35aa-457d-8f66-d4430d9ce68f",
   "metadata": {},
   "source": [
    "# <span style=\"color:Salmon\">CountNonDivisible</span>"
   ]
  },
  {
   "cell_type": "markdown",
   "id": "4dddcd9f-c6d7-43e0-b500-21cb556ca930",
   "metadata": {},
   "source": [
    "<div class=\"brinza-task-description\">\n",
    "<p>Two positive integers N and M are given. Integer N represents the number of chocolates arranged in a circle, numbered from 0 to N − 1.</p>\n",
    "<p>You start to eat the chocolates. After eating a chocolate you leave only a wrapper.</p>\n",
    "<p>You begin with eating chocolate number 0. Then you omit the next M − 1 chocolates or wrappers on the circle, and eat the following one.</p>\n",
    "<p>More precisely, if you ate chocolate number X, then you will next eat the chocolate with number (X + M) modulo N (remainder of division).</p>\n",
    "<p>You stop eating when you encounter an empty wrapper.</p>\n",
    "<p>For example, given integers N = 10 and M = 4. You will eat the following chocolates: 0, 4, 8, 2, 6.</p>\n",
    "<p>The goal is to count the number of chocolates that you will eat, following the above rules.</p>\n",
    "<p>Write a function:</p>\n",
    "<blockquote><p style=\"font-family: monospace; font-size: 9pt; display: block; white-space: pre-wrap;\"><tt>def solution(N, M)</tt></p></blockquote>\n",
    "<p>that, given two positive integers N and M, returns the number of chocolates that you will eat.</p>\n",
    "<p>For example, given integers N = 10 and M = 4. the function should return 5, as explained above.</p>\n",
    "<p>Write an <b><b>efficient</b></b> algorithm for the following assumptions:</p>\n",
    "<blockquote><ul style=\"margin: 10px; padding: 0px;\"><li>N and M are integers within the range [<span class=\"number\">1</span>..<span class=\"number\">1,000,000,000</span>].</li>\n",
    "</ul>\n",
    "</blockquote></div>"
   ]
  },
  {
   "cell_type": "code",
   "execution_count": null,
   "id": "0f356a8a-dd2b-45e3-9efa-6e3f1900f84b",
   "metadata": {},
   "outputs": [],
   "source": [
    "# LCM 을 구하고, 이 LCM을 M으로 나눈 값이 정답이 될 것 같다.\n",
    "# GCD*LCM = A*B 이므로, LCM/B = A/GCD 다.\n",
    "def gcd(A, B):\n",
    "    if A%B == 0:\n",
    "        return B\n",
    "    else:\n",
    "        return gcd(B, A%B)\n",
    "        \n",
    "def solution(N, M):\n",
    "    _gcd = gcd(N, M)\n",
    "    return N//_gcd"
   ]
  },
  {
   "cell_type": "markdown",
   "id": "705119aa-dc30-4ad5-bba8-ffb59673f28c",
   "metadata": {},
   "source": [
    "# <span style=\"color:Salmon\">CommonPrimeDivisors</span>"
   ]
  },
  {
   "cell_type": "markdown",
   "id": "c5bba96c-2088-49d1-9ef8-ef3ec9372719",
   "metadata": {},
   "source": [
    "<div class=\"brinza-task-description\">\n",
    "<p>A <i>prime</i> is a positive integer X that has exactly two distinct divisors: 1 and X. The first few prime integers are 2, 3, 5, 7, 11 and 13.</p>\n",
    "<p>A prime D is called a <i>prime divisor</i> of a positive integer P if there exists a positive integer K such that D * K = P. For example, 2 and 5 are prime divisors of 20.</p>\n",
    "<p>You are given two positive integers N and M. The goal is to check whether the sets of prime divisors of integers N and M are exactly the same.</p>\n",
    "<p>For example, given:</p>\n",
    "<blockquote><ul style=\"margin: 10px; padding: 0px;\"><li>N = 15 and M = 75, the prime divisors are the same: {3, 5};</li>\n",
    "<li>N = 10 and M = 30, the prime divisors aren't the same: {2, 5} is not equal to {2, 3, 5};</li>\n",
    "<li>N = 9 and M = 5, the prime divisors aren't the same: {3} is not equal to {5}.</li>\n",
    "</ul>\n",
    "</blockquote><p>Write a function:</p>\n",
    "<blockquote><p style=\"font-family: monospace; font-size: 9pt; display: block; white-space: pre-wrap;\"><tt>def solution(A, B)</tt></p></blockquote>\n",
    "<p>that, given two non-empty arrays A and B of Z integers, returns the number of positions K for which the prime divisors of A[K] and B[K] are exactly the same.</p>\n",
    "<p>For example, given:</p>\n",
    "<tt style=\"white-space: pre-wrap;\">    A[0] = 15   B[0] = 75\n",
    "    A[1] = 10   B[1] = 30\n",
    "    A[2] = 3    B[2] = 5</tt>\n",
    "<p>the function should return 1, because only one pair (15, 75) has the same set of prime divisors.</p>\n",
    "<p>Write an <b><b>efficient</b></b> algorithm for the following assumptions:</p>\n",
    "<blockquote><ul style=\"margin: 10px; padding: 0px;\"><li>Z is an integer within the range [<span class=\"number\">1</span>..<span class=\"number\">6,000</span>];</li>\n",
    "<li>each element of arrays A and B is an integer within the range [<span class=\"number\">1</span>..<span class=\"number\">2,147,483,647</span>].</li>\n",
    "</ul>\n",
    "</blockquote></div>"
   ]
  },
  {
   "cell_type": "markdown",
   "id": "caa72104-c266-4974-b7c0-17222b803103",
   "metadata": {},
   "source": [
    "# solution \n",
    "$$M = {x_1}^{a_1} \\times {x_2}^{a_2} \\times {x_3}^{a_3}\\times ...$$\n",
    "$$N = {y_1}^{b_1} \\times {y_2}^{b_2} \\times {y_3}^{b_3}\\times ...$$  \n",
    "일 때, $\\vec{x}=\\vec{y}$라면, $M = {M\\over{GCD(M,N)}}$ 연산을 반복했을 때 $M=1$ 이 된다.  \n",
    "이는 $N$에 대해서도 마찬가지다.  \n",
    "만약 서로 다른 소인수 $x_n$ 과 $y_n$이 존재한다면, $M$과 $N$은 위 연산을 통해 1이 될 수 없다.  \n",
    "$x$의 원소 집합이 $y$의 원소 집합의 진부분집합이라면, $M$은 위 연산을 통해 1이 될 수 있지만, $N$은 1이 될 수 없다. ($GCD(M,N)$이 $N$의 소인수 일부를 포함하지 못하기 때문)"
   ]
  },
  {
   "cell_type": "code",
   "execution_count": 37,
   "id": "db576573-b566-48b6-b01a-5dba2a2224c1",
   "metadata": {},
   "outputs": [
    {
     "data": {
      "text/plain": [
       "1"
      ]
     },
     "execution_count": 37,
     "metadata": {},
     "output_type": "execute_result"
    }
   ],
   "source": [
    "def gcd(A, B):\n",
    "    if A%B == 0:\n",
    "        return B\n",
    "    else:\n",
    "        return gcd(B, A%B)\n",
    "\n",
    "def check(a:int, b:int) -> bool:\n",
    "    while a>1:\n",
    "        _gcd = gcd(a, b)\n",
    "        if _gcd == 1:\n",
    "            return False\n",
    "        a //= _gcd\n",
    "    return True\n",
    "\n",
    "def solution(A, B):\n",
    "    answer = 0\n",
    "    for a, b in zip(A, B):\n",
    "        if check(a, b) and check(b, a):\n",
    "            answer += 1\n",
    "    return answer\n",
    "\n",
    "solution([15, 10, 3], [75, 30, 5])"
   ]
  }
 ],
 "metadata": {
  "kernelspec": {
   "display_name": "Python 3 (ipykernel)",
   "language": "python",
   "name": "python3"
  },
  "language_info": {
   "codemirror_mode": {
    "name": "ipython",
    "version": 3
   },
   "file_extension": ".py",
   "mimetype": "text/x-python",
   "name": "python",
   "nbconvert_exporter": "python",
   "pygments_lexer": "ipython3",
   "version": "3.9.19"
  }
 },
 "nbformat": 4,
 "nbformat_minor": 5
}
