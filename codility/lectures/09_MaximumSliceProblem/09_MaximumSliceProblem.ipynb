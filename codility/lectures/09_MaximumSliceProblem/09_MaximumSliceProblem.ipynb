{
 "cells": [
  {
   "cell_type": "markdown",
   "id": "733205dd-81b9-489f-86e3-1c9b42417c57",
   "metadata": {},
   "source": [
    "# Maximum Slice  \n",
    "한 array 에서 합이 최대가 되는 subslice를 고르는 방법은 다음과 같다.  \n",
    "\n",
    "1. $O(n^2)$ solution  \n",
    "prefix sum 을 이용하여 start_position과 end_position을 옮겨가며 해당 구간의 합을 구하는 방법 (코드 생략)\n",
    "\n",
    "2. $O(n)$ solution  \n",
    "중간에 subslice의 합이 음수가 되면, 끊었다가 다시 시작하는 것이 무조건 이득이므로 이를 이용하여 최대값을 갱신해나가는 방법\n",
    "```python\n",
    "def max_slice(A):\n",
    "    local_subslice = 0\n",
    "    global_subslice = 0\n",
    "    for a in A:\n",
    "        local_subslice = max(0, local_subslice)\n",
    "        global_subslice = max(local_subslice, global_subslice)\n",
    "    return global_subslice\n",
    "```\n",
    "\n",
    "- 그런데, global_subslice로 관리하지 않아도, local_subslice의 결과들을 list에 담아두고 max로 찾을 수 있다. 시간복잡도도 동일하다\n",
    "- 이런 방식으로 진행하면, 결과를 재사용하기 쉬워 더 많은 문제에 적용 가능할 것으로 보인다."
   ]
  },
  {
   "cell_type": "markdown",
   "id": "fa13802a-8deb-45de-baab-2543c35af036",
   "metadata": {},
   "source": [
    "# <span style=\"color:Salmon\">MaxProfit</span>"
   ]
  },
  {
   "cell_type": "markdown",
   "id": "98307069-193c-488b-8552-b7102a18f01f",
   "metadata": {},
   "source": [
    "<div class=\"brinza-task-description\">\n",
    "<p>An array A consisting of N integers is given. It contains daily prices of a stock share for a period of N consecutive days. If a single share was bought on day P and sold on day Q, where 0 ≤ P ≤ Q &lt; N, then the <i>profit</i> of such transaction is equal to A[Q] − A[P], provided that A[Q] ≥ A[P]. Otherwise, the transaction brings <i>loss</i> of A[P] − A[Q].</p>\n",
    "<p>For example, consider the following array A consisting of six elements such that:</p>\n",
    "<tt style=\"white-space: pre-wrap;\">  A[0] = 23171\n",
    "  A[1] = 21011\n",
    "  A[2] = 21123\n",
    "  A[3] = 21366\n",
    "  A[4] = 21013\n",
    "  A[5] = 21367</tt>\n",
    "<p>If a share was bought on day 0 and sold on day 2, a loss of 2048 would occur because A[2] − A[0] = 21123 − 23171 = −2048. If a share was bought on day 4 and sold on day 5, a profit of 354 would occur because A[5] − A[4] = 21367 − 21013 = 354. Maximum possible profit was 356. It would occur if a share was bought on day 1 and sold on day 5.</p>\n",
    "<p>Write a function,</p>\n",
    "<blockquote><p style=\"font-family: monospace; font-size: 9pt; display: block; white-space: pre-wrap;\"><tt>def solution(A)</tt></p></blockquote>\n",
    "<p>that, given an array A consisting of N integers containing daily prices of a stock share for a period of N consecutive days, returns the maximum possible profit from one transaction during this period. The function should return 0 if it was impossible to gain any profit.</p>\n",
    "<p>For example, given array A consisting of six elements such that:</p>\n",
    "<tt style=\"white-space: pre-wrap;\">  A[0] = 23171\n",
    "  A[1] = 21011\n",
    "  A[2] = 21123\n",
    "  A[3] = 21366\n",
    "  A[4] = 21013\n",
    "  A[5] = 21367</tt>\n",
    "<p>the function should return 356, as explained above.</p>\n",
    "<p>Write an <b><b>efficient</b></b> algorithm for the following assumptions:</p>\n",
    "<blockquote><ul style=\"margin: 10px; padding: 0px;\"><li>N is an integer within the range [<span class=\"number\">0</span>..<span class=\"number\">400,000</span>];</li>\n",
    "<li>each element of array A is an integer within the range [<span class=\"number\">0</span>..<span class=\"number\">200,000</span>].</li>\n",
    "</ul>\n",
    "</blockquote></div>"
   ]
  },
  {
   "cell_type": "code",
   "execution_count": null,
   "id": "9cf6f738-4efb-44a4-b277-4a2f5d477223",
   "metadata": {},
   "outputs": [],
   "source": [
    "# 한 번 순회하며 현재까지의 min값을 갱신해가고, 현재값과 현재까지의 min 차이를 구하면 된다.\n",
    "def solution(A):\n",
    "    min_value = 1e+6\n",
    "    answer = 0\n",
    "    \n",
    "    for a in A:\n",
    "        min_value = min(min_value, a)\n",
    "        answer = max(answer, a-min_value)\n",
    "    return answer"
   ]
  },
  {
   "cell_type": "markdown",
   "id": "4aeab957-7bb9-4292-941a-85212a13ff5f",
   "metadata": {},
   "source": [
    "# <span style=\"color:Salmon\">MaxSliceSum</span>"
   ]
  },
  {
   "cell_type": "markdown",
   "id": "3812143f-684e-4369-a412-361067296cd6",
   "metadata": {},
   "source": [
    "<div class=\"brinza-task-description\">\n",
    "<p>A non-empty array A consisting of N integers is given. A pair of integers (P, Q), such that 0 ≤ P ≤ Q &lt; N, is called a <i>slice</i> of array A. The <i>sum</i> of a slice (P, Q) is the total of A[P] + A[P+1] + ... + A[Q].</p>\n",
    "<p>Write a function:</p>\n",
    "<blockquote><p style=\"font-family: monospace; font-size: 9pt; display: block; white-space: pre-wrap;\"><tt>def solution(A)</tt></p></blockquote>\n",
    "<p>that, given an array A consisting of N integers, returns the maximum sum of any slice of A.</p>\n",
    "<p>For example, given array A such that:</p>\n",
    "<tt style=\"white-space: pre-wrap;\">A[0] = 3  A[1] = 2  A[2] = -6\n",
    "A[3] = 4  A[4] = 0</tt>\n",
    "<p>the function should return 5 because:</p>\n",
    "<blockquote><ul style=\"margin: 10px; padding: 0px;\"><li>(3, 4) is a slice of A that has sum 4,</li>\n",
    "<li>(2, 2) is a slice of A that has sum −6,</li>\n",
    "<li>(0, 1) is a slice of A that has sum 5,</li>\n",
    "<li>no other slice of A has sum greater than (0, 1).</li>\n",
    "</ul>\n",
    "</blockquote><p>Write an <b><b>efficient</b></b> algorithm for the following assumptions:</p>\n",
    "<blockquote><ul style=\"margin: 10px; padding: 0px;\"><li>N is an integer within the range [<span class=\"number\">1</span>..<span class=\"number\">1,000,000</span>];</li>\n",
    "<li>each element of array A is an integer within the range [<span class=\"number\">−1,000,000</span>..<span class=\"number\">1,000,000</span>];</li>\n",
    "<li>the result will be an integer within the range [−2,147,483,648..2,147,483,647].</li>\n",
    "</ul>\n",
    "</blockquote></div>"
   ]
  },
  {
   "cell_type": "code",
   "execution_count": null,
   "id": "e87d3c33-4075-4580-8af7-da180cacd979",
   "metadata": {},
   "outputs": [],
   "source": [
    "# 진짜 max slice sum 문제다.\n",
    "def solution(A):\n",
    "    # A에 양수가 없으면 뭐 더할수록 손해라 max값이 곧 max_subslice_sum이 된다\n",
    "    max_A = max(A)\n",
    "    if max_A<=0:\n",
    "        return max_A\n",
    "\n",
    "    local_subslice = 0\n",
    "    global_subslice = 0\n",
    "\n",
    "    for a in A:\n",
    "        local_subslice = max(0, local_subslice+a)\n",
    "        global_subslice = max(local_subslice, global_subslice)\n",
    "        \n",
    "    return global_subslice"
   ]
  },
  {
   "cell_type": "markdown",
   "id": "8d7343a9-0c48-4f94-9841-38d18c8c7d2d",
   "metadata": {},
   "source": [
    "# <span style=\"color:Salmon\">MaxDoubleSliceSum</span>"
   ]
  },
  {
   "cell_type": "markdown",
   "id": "9b191fb7-d39a-42a8-8836-8b180f989dba",
   "metadata": {},
   "source": [
    "<div class=\"brinza-task-description\">\n",
    "<p>A non-empty array A consisting of N integers is given.</p>\n",
    "<p>A triplet (X, Y, Z), such that 0 ≤ X &lt; Y &lt; Z &lt; N, is called a <i>double slice</i>.</p>\n",
    "<p>The <i>sum</i> of double slice (X, Y, Z) is the total of A[X + 1] + A[X + 2] + ... + A[Y − 1] + A[Y + 1] + A[Y + 2] + ... + A[Z − 1].</p>\n",
    "<p>For example, array A such that:</p>\n",
    "<tt style=\"white-space: pre-wrap;\">    A[0] = 3\n",
    "    A[1] = 2\n",
    "    A[2] = 6\n",
    "    A[3] = -1\n",
    "    A[4] = 4\n",
    "    A[5] = 5\n",
    "    A[6] = -1\n",
    "    A[7] = 2</tt>\n",
    "<p>contains the following example double slices:</p>\n",
    "<blockquote><ul style=\"margin: 10px; padding: 0px;\"><li>double slice (0, 3, 6), sum is 2 + 6 + 4 + 5 = 17,</li>\n",
    "<li>double slice (0, 3, 7), sum is 2 + 6 + 4 + 5 − 1 = 16,</li>\n",
    "<li>double slice (3, 4, 5), sum is 0.</li>\n",
    "</ul>\n",
    "</blockquote><p>The goal is to find the maximal sum of any double slice.</p>\n",
    "<p>Write a function:</p>\n",
    "<blockquote><p style=\"font-family: monospace; font-size: 9pt; display: block; white-space: pre-wrap;\"><tt>def solution(A)</tt></p></blockquote>\n",
    "<p>that, given a non-empty array A consisting of N integers, returns the maximal sum of any double slice.</p>\n",
    "<p>For example, given:</p>\n",
    "<tt style=\"white-space: pre-wrap;\">    A[0] = 3\n",
    "    A[1] = 2\n",
    "    A[2] = 6\n",
    "    A[3] = -1\n",
    "    A[4] = 4\n",
    "    A[5] = 5\n",
    "    A[6] = -1\n",
    "    A[7] = 2</tt>\n",
    "<p>the function should return 17, because no double slice of array A has a sum of greater than 17.</p>\n",
    "<p>Write an <b><b>efficient</b></b> algorithm for the following assumptions:</p>\n",
    "<blockquote><ul style=\"margin: 10px; padding: 0px;\"><li>N is an integer within the range [<span class=\"number\">3</span>..<span class=\"number\">100,000</span>];</li>\n",
    "<li>each element of array A is an integer within the range [<span class=\"number\">−10,000</span>..<span class=\"number\">10,000</span>].</li>\n",
    "</ul>\n",
    "</blockquote></div>"
   ]
  },
  {
   "cell_type": "code",
   "execution_count": 8,
   "id": "3dfc560d-8f99-4068-baf0-3b1a9bd37782",
   "metadata": {},
   "outputs": [
    {
     "data": {
      "text/plain": [
       "17"
      ]
     },
     "execution_count": 8,
     "metadata": {},
     "output_type": "execute_result"
    }
   ],
   "source": [
    "# left, right 로부터 subslice max 값들을 list로 저장해둔다.\n",
    "\n",
    "def solution(A):\n",
    "    left_max = [0 for _ in range(len(A))]\n",
    "    right_max = [0 for _ in range(len(A))]\n",
    "\n",
    "    for idx in range(1, len(A)):\n",
    "        left_max[idx] = max(0, left_max[idx-1]+A[idx])\n",
    "    for idx in range(len(A)-2, -1, -1):\n",
    "        right_max[idx] = max(0, right_max[idx+1]+A[idx])\n",
    "\n",
    "    answer = 0\n",
    "    for idx in range(1, len(A)-1):\n",
    "        answer = max(answer, left_max[idx-1]+right_max[idx+1])\n",
    "\n",
    "    return answer\n",
    "\n",
    "solution([3,2,6,-1,4,5,-1,2])"
   ]
  }
 ],
 "metadata": {
  "kernelspec": {
   "display_name": "Python 3 (ipykernel)",
   "language": "python",
   "name": "python3"
  },
  "language_info": {
   "codemirror_mode": {
    "name": "ipython",
    "version": 3
   },
   "file_extension": ".py",
   "mimetype": "text/x-python",
   "name": "python",
   "nbconvert_exporter": "python",
   "pygments_lexer": "ipython3",
   "version": "3.9.19"
  }
 },
 "nbformat": 4,
 "nbformat_minor": 5
}
