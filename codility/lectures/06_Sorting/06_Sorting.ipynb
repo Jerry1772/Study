{
 "cells": [
  {
   "cell_type": "markdown",
   "id": "24fae0b2-2e5d-425d-bbf9-7d053a1b4ba9",
   "metadata": {},
   "source": [
    "# <span style=\"color:Salmon\">Distinct</span>"
   ]
  },
  {
   "cell_type": "code",
   "execution_count": null,
   "id": "56fed2ec-0580-4fd1-86c5-3c3861966f92",
   "metadata": {},
   "outputs": [],
   "source": [
    "def solution(A):\n",
    "    return len(set(A))"
   ]
  },
  {
   "cell_type": "markdown",
   "id": "16abfd56-e59e-4779-92be-53d1a903f14b",
   "metadata": {},
   "source": [
    "# <span style=\"color:Salmon\">MaxProductOfThree</span>"
   ]
  },
  {
   "cell_type": "code",
   "execution_count": null,
   "id": "0d37d333-36b0-4df4-ba63-3e284c1d7cc4",
   "metadata": {},
   "outputs": [],
   "source": [
    "# 가장 클 수 있는 조합은 (큰 양수 세 개 ) 또는 (큰 양수 한 개와 작은 음수 두 개).\n",
    "def solution(A):\n",
    "    A.sort()\n",
    "    return max(A[0]*A[1]*A[-1], A[-1]*A[-2]*A[-3])"
   ]
  },
  {
   "cell_type": "markdown",
   "id": "bb20efba-5d8e-46b9-b22d-18e21d66e240",
   "metadata": {},
   "source": [
    "# <span style=\"color:Salmon\">Triangle</span>"
   ]
  },
  {
   "cell_type": "code",
   "execution_count": null,
   "id": "2b9f9cf8-b209-4a69-a67a-43d7638bfb44",
   "metadata": {},
   "outputs": [],
   "source": [
    "# 제일 큰 변보다 나머지 두 변의 길이 합이 더 크면 됨\n",
    "def solution(A):\n",
    "    A.sort()\n",
    "    for idx in range(len(A)-2):\n",
    "        if A[idx]+A[idx+1]>A[idx+2]:\n",
    "            return 1\n",
    "    return 0\n",
    "    "
   ]
  },
  {
   "cell_type": "markdown",
   "id": "b6da70e9-1975-4ec2-899e-2d6e1dff5221",
   "metadata": {},
   "source": [
    "# <span style=\"color:Salmon\">NumberOfDisIntersections</span>"
   ]
  },
  {
   "cell_type": "code",
   "execution_count": 5,
   "id": "518f7ca2-32e8-4299-bf19-0a0870ef7ed7",
   "metadata": {},
   "outputs": [],
   "source": [
    "# 카카오 문제에서 풀었던 것과 유사한데, In 과 Out의 타이밍을 기록해 두고,\n",
    "# In시 현재인원을 ++, Out시 현재인원 --\n",
    "# In시 현재인원 더해주기 전에 총 인원에 현재인원을 한번 더해줘야 함. (동시 시청자)\n",
    "\n",
    "def solution(A):\n",
    "    IN = 0\n",
    "    OUT = 1\n",
    "\n",
    "    io_list = []\n",
    "    for origin, radius in enumerate(A):\n",
    "        io_list.append((origin-radius, IN))\n",
    "        io_list.append((origin+radius, OUT))\n",
    "    io_list.sort(key=lambda x: (x[0], x[1])) # 항상 IN 먼저 처리하기 위함\n",
    "\n",
    "    total_intersections = 0\n",
    "    current_intersections = 0\n",
    "\n",
    "    for point, io in io_list:\n",
    "        if io==IN:\n",
    "            total_intersections += current_intersections\n",
    "            current_intersections += 1\n",
    "        else:\n",
    "            current_intersections -= 1\n",
    "        if total_intersections>10000000:\n",
    "            return -1\n",
    "    return total_intersections\n"
   ]
  },
  {
   "cell_type": "markdown",
   "id": "ba6b53ac-ee41-4c99-9e0e-0265b310186b",
   "metadata": {},
   "source": [
    "https://school.programmers.co.kr/learn/courses/30/lessons/17676\n",
    "\n",
    "https://school.programmers.co.kr/learn/courses/30/lessons/72414"
   ]
  }
 ],
 "metadata": {
  "kernelspec": {
   "display_name": "Python 3 (ipykernel)",
   "language": "python",
   "name": "python3"
  },
  "language_info": {
   "codemirror_mode": {
    "name": "ipython",
    "version": 3
   },
   "file_extension": ".py",
   "mimetype": "text/x-python",
   "name": "python",
   "nbconvert_exporter": "python",
   "pygments_lexer": "ipython3",
   "version": "3.9.19"
  }
 },
 "nbformat": 4,
 "nbformat_minor": 5
}
