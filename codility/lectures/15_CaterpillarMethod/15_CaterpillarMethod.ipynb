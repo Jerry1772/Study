{
 "cells": [
  {
   "cell_type": "markdown",
   "id": "f837ac46-6520-4cda-b316-b2c404ed528c",
   "metadata": {},
   "source": [
    "# Caterpillar Method  \n",
    "투포인터 method 다.  \n",
    "\n",
    "예를 들어, Sequence 의 Subslice 가 특정 값이 될 수 있는지 확인하는 방법은 다음과 같이 구현해볼 수 있다.\n",
    "```python\n",
    "# subslice 합이 특정 값 이상이 되는 순간까지 head를 계속 늘려나간다.\n",
    "# 특정 값과 같아지면 True를 반환하고, 넘어갔으면 tail을 끌어온다.\n",
    "def caterpillar_method(A, s):\n",
    "    n = len(A)\n",
    "    head = 0\n",
    "    total = 0\n",
    "    for tail in range (n):\n",
    "        while head<n and total<s:\n",
    "            total += A[head]\n",
    "            head += 1\n",
    "        if total == s:\n",
    "            return True\n",
    "        total -= A[tail]\n",
    "    return False\n",
    "```"
   ]
  },
  {
   "cell_type": "markdown",
   "id": "d8e8bed9-83d0-44bd-bf27-3fd245793edd",
   "metadata": {},
   "source": [
    "# <span style=\"color:Salmon\">AbsDistinct</span>"
   ]
  },
  {
   "cell_type": "markdown",
   "id": "b395d5f9-9378-491e-9efc-908ba593b2e3",
   "metadata": {},
   "source": [
    "<div class=\"brinza-task-description\">\n",
    "<p>A non-empty array A consisting of N numbers is given. The array is sorted in non-decreasing order. The <i>absolute distinct count</i> of this array is the number of distinct absolute values among the elements of the array.</p>\n",
    "<p>For example, consider array A such that:</p>\n",
    "<tt style=\"white-space: pre-wrap;\">  A[0] = -5\n",
    "  A[1] = -3\n",
    "  A[2] = -1\n",
    "  A[3] =  0\n",
    "  A[4] =  3\n",
    "  A[5] =  6</tt>\n",
    "<p>The absolute distinct count of this array is 5, because there are 5 distinct absolute values among the elements of this array, namely 0, 1, 3, 5 and 6.</p>\n",
    "<p>Write a function:</p>\n",
    "<blockquote><p style=\"font-family: monospace; font-size: 9pt; display: block; white-space: pre-wrap;\"><tt>def solution(A)</tt></p></blockquote>\n",
    "<p>that, given a non-empty array A consisting of N numbers, returns absolute distinct count of array A.</p>\n",
    "<p>For example, given array A such that:</p>\n",
    "<tt style=\"white-space: pre-wrap;\">  A[0] = -5\n",
    "  A[1] = -3\n",
    "  A[2] = -1\n",
    "  A[3] =  0\n",
    "  A[4] =  3\n",
    "  A[5] =  6</tt>\n",
    "<p>the function should return 5, as explained above.</p>\n",
    "<p>Write an <b><b>efficient</b></b> algorithm for the following assumptions:</p>\n",
    "<blockquote><ul style=\"margin: 10px; padding: 0px;\"><li>N is an integer within the range [<span class=\"number\">1</span>..<span class=\"number\">100,000</span>];</li>\n",
    "<li>each element of array A is an integer within the range [<span class=\"number\">−2,147,483,648</span>..<span class=\"number\">2,147,483,647</span>];</li>\n",
    "<li>array A is sorted in non-decreasing order.</li>\n",
    "</ul>\n",
    "</blockquote></div>"
   ]
  },
  {
   "cell_type": "code",
   "execution_count": 10,
   "id": "527fddaa-9cee-4501-b3b5-f52eca8cd0c6",
   "metadata": {},
   "outputs": [],
   "source": [
    "# 1. 어차피 다 봐야하니 O(n) 이 나올 수 밖에 없다. 그냥 시킨대로 하면 풀린다.\n",
    "def solution(A):\n",
    "    return len(set([abs(a) for a in A]))"
   ]
  },
  {
   "cell_type": "code",
   "execution_count": 17,
   "id": "0e134b0c-6798-4c3d-a0ae-30f48e64e743",
   "metadata": {},
   "outputs": [
    {
     "data": {
      "text/plain": [
       "5"
      ]
     },
     "execution_count": 17,
     "metadata": {},
     "output_type": "execute_result"
    }
   ],
   "source": [
    "# 2. 투포인터로 조금 더 빠르게 만들 수 있을까\n",
    "def solution(A):\n",
    "    left = 0\n",
    "    right = len(A) - 1\n",
    "    distinct_count = 0\n",
    "    last_abs_value = None\n",
    "\n",
    "    while left <= right:\n",
    "        left_abs = abs(A[left])\n",
    "        right_abs = abs(A[right])\n",
    "\n",
    "        if left_abs > right_abs:\n",
    "            current_abs = left_abs\n",
    "            left += 1\n",
    "        elif left_abs < right_abs:\n",
    "            current_abs = right_abs\n",
    "            right -= 1\n",
    "        else:\n",
    "            current_abs = left_abs\n",
    "            left += 1\n",
    "            right -= 1\n",
    "\n",
    "        if current_abs != last_abs_value:\n",
    "            distinct_count += 1\n",
    "            last_abs_value = current_abs\n",
    "\n",
    "    return distinct_count\n",
    "solution([-5,-3,-1,0,3,6])"
   ]
  },
  {
   "cell_type": "markdown",
   "id": "fa9aea19-a72d-4204-894f-97d4b457caf3",
   "metadata": {},
   "source": [
    "# <span style=\"color:Salmon\">AbsDistinct</span>"
   ]
  },
  {
   "cell_type": "markdown",
   "id": "41307e88-3d95-4d64-9b1b-213ef3d8eed1",
   "metadata": {},
   "source": [
    "<div class=\"brinza-task-description\">\n",
    "<p>An integer M and a non-empty array A consisting of N non-negative integers are given. All integers in array A are less than or equal to M.</p>\n",
    "<p>A pair of integers (P, Q), such that 0 ≤ P ≤ Q &lt; N, is called a <i>slice</i> of array A. The slice consists of the elements A[P], A[P + 1], ..., A[Q]. A <i>distinct slice</i> is a slice consisting of only unique numbers. That is, no individual number occurs more than once in the slice.</p>\n",
    "<p>For example, consider integer M = 6 and array A such that:</p>\n",
    "<tt style=\"white-space: pre-wrap;\">    A[0] = 3\n",
    "    A[1] = 4\n",
    "    A[2] = 5\n",
    "    A[3] = 5\n",
    "    A[4] = 2</tt>\n",
    "<p>There are exactly nine distinct slices: (0, 0), (0, 1), (0, 2), (1, 1), (1, 2), (2, 2), (3, 3), (3, 4) and (4, 4).</p>\n",
    "<p>The goal is to calculate the number of distinct slices.</p>\n",
    "<p>Write a function:</p>\n",
    "<blockquote><p style=\"font-family: monospace; font-size: 9pt; display: block; white-space: pre-wrap;\"><tt>def solution(M, A)</tt></p></blockquote>\n",
    "<p>that, given an integer M and a non-empty array A consisting of N integers, returns the number of distinct slices.</p>\n",
    "<p>If the number of distinct slices is greater than 1,000,000,000, the function should return 1,000,000,000.</p>\n",
    "<p>For example, given integer M = 6 and array A such that:</p>\n",
    "<tt style=\"white-space: pre-wrap;\">    A[0] = 3\n",
    "    A[1] = 4\n",
    "    A[2] = 5\n",
    "    A[3] = 5\n",
    "    A[4] = 2</tt>\n",
    "<p>the function should return 9, as explained above.</p>\n",
    "<p>Write an <b><b>efficient</b></b> algorithm for the following assumptions:</p>\n",
    "<blockquote><ul style=\"margin: 10px; padding: 0px;\"><li>N is an integer within the range [<span class=\"number\">1</span>..<span class=\"number\">100,000</span>];</li>\n",
    "<li>M is an integer within the range [<span class=\"number\">0</span>..<span class=\"number\">100,000</span>];</li>\n",
    "<li>each element of array A is an integer within the range [<span class=\"number\">0</span>..<span class=\"number\">M</span>].</li>\n",
    "</ul>\n",
    "</blockquote></div>"
   ]
  },
  {
   "cell_type": "code",
   "execution_count": 40,
   "id": "e00f10b6-503c-42bc-a650-8a24615833e4",
   "metadata": {},
   "outputs": [
    {
     "data": {
      "text/plain": [
       "11"
      ]
     },
     "execution_count": 40,
     "metadata": {},
     "output_type": "execute_result"
    }
   ],
   "source": [
    "# [1,2,3,4,5] 에서 [1,2,3,4,5,6]으로 확장이 성공하면, [6], [5,6], ... [1,2,3,4,5,6] 까지 전부 체크가 된 셈이다.\n",
    "# 그러므로 len(subslice) 만큼을 answer에 계속 더해주면 된다.\n",
    "# 실패하면, 해당 원소의 \n",
    "\n",
    "def solution(M, A):\n",
    "    left = 0\n",
    "    answer = 0\n",
    "    last_seen = dict()\n",
    "    \n",
    "    for right in range(len(A)):\n",
    "        a = A[right]\n",
    "        \n",
    "        if a in last_seen:\n",
    "            while left<last_seen[a]:\n",
    "                last_seen.pop(A[left])\n",
    "                left += 1\n",
    "            left += 1\n",
    "            \n",
    "        last_seen[a] = right\n",
    "        \n",
    "        answer += right-left+1\n",
    "\n",
    "        if answer > 1000000000:\n",
    "            return 1000000000\n",
    "    return answer\n",
    "            \n",
    "\n",
    "solution(6, [1,3,2,3,4])"
   ]
  },
  {
   "cell_type": "markdown",
   "id": "554434eb-19bc-4963-aed5-a17f04bd6dd7",
   "metadata": {},
   "source": [
    "# <span style=\"color:Salmon\">CountTriangles</span>"
   ]
  },
  {
   "cell_type": "markdown",
   "id": "5806fd0b-66d7-40bd-b23d-bedcc133558d",
   "metadata": {},
   "source": [
    "<div class=\"brinza-task-description\">\n",
    "<p>An array A consisting of N integers is given. A triplet (P, Q, R) is <i>triangular</i> if it is possible to build a triangle with sides of lengths A[P], A[Q] and A[R]. In other words, triplet (P, Q, R) is triangular if 0 ≤ P &lt; Q &lt; R &lt; N and:</p>\n",
    "<blockquote><ul style=\"margin: 10px; padding: 0px;\"><li>A[P] + A[Q] &gt; A[R],</li>\n",
    "<li>A[Q] + A[R] &gt; A[P],</li>\n",
    "<li>A[R] + A[P] &gt; A[Q].</li>\n",
    "</ul>\n",
    "</blockquote><p>For example, consider array A such that:</p>\n",
    "<tt style=\"white-space: pre-wrap;\">  A[0] = 10    A[1] = 2    A[2] = 5\n",
    "  A[3] = 1     A[4] = 8    A[5] = 12</tt>\n",
    "<p>There are four triangular triplets that can be constructed from elements of this array, namely (0, 2, 4), (0, 2, 5), (0, 4, 5), and (2, 4, 5).</p>\n",
    "<p>Write a function:</p>\n",
    "<blockquote><p style=\"font-family: monospace; font-size: 9pt; display: block; white-space: pre-wrap;\"><tt>def solution(A)</tt></p></blockquote>\n",
    "<p>that, given an array A consisting of N integers, returns the number of triangular triplets in this array.</p>\n",
    "<p>For example, given array A such that:</p>\n",
    "<tt style=\"white-space: pre-wrap;\">  A[0] = 10    A[1] = 2    A[2] = 5\n",
    "  A[3] = 1     A[4] = 8    A[5] = 12</tt>\n",
    "<p>the function should return 4, as explained above.</p>\n",
    "<p>Write an <b><b>efficient</b></b> algorithm for the following assumptions:</p>\n",
    "<blockquote><ul style=\"margin: 10px; padding: 0px;\"><li>N is an integer within the range [<span class=\"number\">0</span>..<span class=\"number\">1,000</span>];</li>\n",
    "<li>each element of array A is an integer within the range [<span class=\"number\">1</span>..<span class=\"number\">1,000,000,000</span>].</li>\n",
    "</ul>\n",
    "</blockquote></div>"
   ]
  },
  {
   "cell_type": "code",
   "execution_count": 42,
   "id": "19942bd8-1e79-448b-a3f6-611d3a19d027",
   "metadata": {},
   "outputs": [
    {
     "data": {
      "text/plain": [
       "4"
      ]
     },
     "execution_count": 42,
     "metadata": {},
     "output_type": "execute_result"
    }
   ],
   "source": [
    "# 삼각형은 제일 큰 변이 나머지 두 변의 합보다 작아야 이루어질 수 있다.\n",
    "# x,y,z triplet 에서, x, x+1, x+2 를 x, y, z로 초기화한다.\n",
    "# z를 올려가며 삼각형이 안될때까 반복한다.\n",
    "# z가 너무 커져서 삼각형이 안되면 y를 한칸 올리고, z는 그 자리에서 다시 위를 반복한다.\n",
    "# 이 때, z를 다시 y+1로 가져오지 않아도 더 작은 y에 대해서 검증이 되었으므로 문제없다. \n",
    "# 이러면 z가 다시 반복이 안되어도 되므로 y, z는 x부터 n까지 한 번만 돌게 되므로 \n",
    "# x루프 n, y와 z 루프 n 총 O(n^2) 로 해결이 된다.\n",
    "\n",
    "def solution(A):\n",
    "    A.sort()\n",
    "    n = len(A)\n",
    "    answer = 0\n",
    "\n",
    "    for x in range(n-2):\n",
    "        z = x+2\n",
    "        for y in range(x+1, n-1):\n",
    "            while z<n and A[x]+A[y]>A[z]:\n",
    "                z += 1\n",
    "            answer += z-y-1\n",
    "    return answer\n",
    "\n",
    "solution([10, 2, 5, 1, 8, 12])"
   ]
  },
  {
   "cell_type": "markdown",
   "id": "4dcd0674-04cc-4207-8a67-76362283d31a",
   "metadata": {},
   "source": [
    "# <span style=\"color:Salmon\">MinAbsSumOfTwo</span>"
   ]
  },
  {
   "cell_type": "markdown",
   "id": "fe951266-732c-448a-b24c-4f493cc06677",
   "metadata": {},
   "source": [
    "<div class=\"brinza-task-description\">\n",
    "<p>Let A be a non-empty array consisting of N integers.</p>\n",
    "<p>The <i>abs sum of two</i> for a pair of indices (P, Q) is the absolute value |A[P] + A[Q]|, for 0 ≤ P ≤ Q &lt; N.</p>\n",
    "<p>For example, the following array A:</p>\n",
    "<tt style=\"white-space: pre-wrap;\">  A[0] =  1\n",
    "  A[1] =  4\n",
    "  A[2] = -3</tt>\n",
    "<p>has pairs of indices (0, 0), (0, 1), (0, 2), (1, 1), (1, 2), (2, 2). <br>\n",
    " The abs sum of two for the pair (0, 0) is A[0] + A[0] = |1 + 1| = 2. <br>\n",
    " The abs sum of two for the pair (0, 1) is A[0] + A[1] = |1 + 4| = 5. <br>\n",
    " The abs sum of two for the pair (0, 2) is A[0] + A[2] = |1 + (−3)| = 2. <br>\n",
    " The abs sum of two for the pair (1, 1) is A[1] + A[1] = |4 + 4| = 8. <br>\n",
    " The abs sum of two for the pair (1, 2) is A[1] + A[2] = |4 + (−3)| = 1. <br>\n",
    " The abs sum of two for the pair (2, 2) is A[2] + A[2] = |(−3) + (−3)| = 6. <br>\n",
    "</p>\n",
    "<p>Write a function:</p>\n",
    "<blockquote><p style=\"font-family: monospace; font-size: 9pt; display: block; white-space: pre-wrap;\"><tt>def solution(A)</tt></p></blockquote>\n",
    "<p>that, given a non-empty array A consisting of N integers, returns the minimal abs sum of two for any pair of indices in this array.</p>\n",
    "<p>For example, given the following array A:</p>\n",
    "<tt style=\"white-space: pre-wrap;\">  A[0] =  1\n",
    "  A[1] =  4\n",
    "  A[2] = -3</tt>\n",
    "<p>the function should return 1, as explained above.</p>\n",
    "<p>Given array A:</p>\n",
    "<tt style=\"white-space: pre-wrap;\">  A[0] = -8\n",
    "  A[1] =  4\n",
    "  A[2] =  5\n",
    "  A[3] =-10\n",
    "  A[4] =  3</tt>\n",
    "<p>the function should return |(−8) + 5| = 3.</p>\n",
    "<p>Write an <b><b>efficient</b></b> algorithm for the following assumptions:</p>\n",
    "<blockquote><ul style=\"margin: 10px; padding: 0px;\"><li>N is an integer within the range [<span class=\"number\">1</span>..<span class=\"number\">100,000</span>];</li>\n",
    "<li>each element of array A is an integer within the range [<span class=\"number\">−1,000,000,000</span>..<span class=\"number\">1,000,000,000</span>].</li>\n",
    "</ul>\n",
    "</blockquote></div>"
   ]
  },
  {
   "cell_type": "code",
   "execution_count": 45,
   "id": "749b67cb-2873-4543-845c-df78f52c97a9",
   "metadata": {},
   "outputs": [
    {
     "data": {
      "text/plain": [
       "3"
      ]
     },
     "execution_count": 45,
     "metadata": {},
     "output_type": "execute_result"
    }
   ],
   "source": [
    "def solution(A):\n",
    "    A.sort()\n",
    "    left, right = 0, 0\n",
    "    temp = abs(A[left]+A[right])\n",
    "    \n",
    "    while right<len(A)-1 and temp>abs(A[left]+A[right+1]):\n",
    "        right += 1\n",
    "        temp = abs(A[left]+A[right])\n",
    "    while left<right and temp>abs(A[left+1]+A[right]):\n",
    "        left += 1\n",
    "        temp = abs(A[left]+A[right])\n",
    "    return temp\n",
    "\n",
    "solution([-8,4,5,-10,3])"
   ]
  }
 ],
 "metadata": {
  "kernelspec": {
   "display_name": "Python 3 (ipykernel)",
   "language": "python",
   "name": "python3"
  },
  "language_info": {
   "codemirror_mode": {
    "name": "ipython",
    "version": 3
   },
   "file_extension": ".py",
   "mimetype": "text/x-python",
   "name": "python",
   "nbconvert_exporter": "python",
   "pygments_lexer": "ipython3",
   "version": "3.9.19"
  }
 },
 "nbformat": 4,
 "nbformat_minor": 5
}
