{
 "cells": [
  {
   "cell_type": "markdown",
   "id": "91668d58-dcf6-401f-a94f-ff2450b88e74",
   "metadata": {},
   "source": [
    "# CyclicRotation"
   ]
  },
  {
   "cell_type": "code",
   "execution_count": 3,
   "id": "2d2e4d5e-efa0-4213-bc94-334d25affbb2",
   "metadata": {},
   "outputs": [],
   "source": [
    "def solution(A, K):\n",
    "    if not A:\n",
    "        return A\n",
    "    k = K%len(A)\n",
    "    return A[-k:]+A[:-k]"
   ]
  },
  {
   "cell_type": "code",
   "execution_count": 4,
   "id": "74ac8869-6c55-4d2f-a1eb-b79c80fc8f3e",
   "metadata": {},
   "outputs": [
    {
     "data": {
      "text/plain": [
       "[9, 7, 6, 3, 8]"
      ]
     },
     "execution_count": 4,
     "metadata": {},
     "output_type": "execute_result"
    }
   ],
   "source": [
    "solution([3,8,9,7,6], 3)"
   ]
  },
  {
   "cell_type": "markdown",
   "id": "6fcbd322-f37a-45a8-b548-dd9838d3152a",
   "metadata": {},
   "source": [
    "# OddOccurrencesInArray"
   ]
  },
  {
   "cell_type": "code",
   "execution_count": 7,
   "id": "8854cd3e-04d4-4613-8470-08be87c17560",
   "metadata": {},
   "outputs": [],
   "source": [
    "def solution(A):\n",
    "    s = set()\n",
    "    for a in A:\n",
    "        if a in s:\n",
    "            s.remove(a)\n",
    "        else:\n",
    "            s.add(a)\n",
    "    return s.pop()"
   ]
  },
  {
   "cell_type": "code",
   "execution_count": 8,
   "id": "8b0e7081-65f1-4b58-825e-7ddcbd721717",
   "metadata": {},
   "outputs": [
    {
     "data": {
      "text/plain": [
       "3"
      ]
     },
     "execution_count": 8,
     "metadata": {},
     "output_type": "execute_result"
    }
   ],
   "source": [
    "solution([9,3,9])"
   ]
  },
  {
   "cell_type": "code",
   "execution_count": null,
   "id": "e5135556-02fc-4cca-aaa7-c147a8b1eb48",
   "metadata": {},
   "outputs": [],
   "source": []
  }
 ],
 "metadata": {
  "kernelspec": {
   "display_name": "Python 3 (ipykernel)",
   "language": "python",
   "name": "python3"
  },
  "language_info": {
   "codemirror_mode": {
    "name": "ipython",
    "version": 3
   },
   "file_extension": ".py",
   "mimetype": "text/x-python",
   "name": "python",
   "nbconvert_exporter": "python",
   "pygments_lexer": "ipython3",
   "version": "3.9.19"
  }
 },
 "nbformat": 4,
 "nbformat_minor": 5
}
