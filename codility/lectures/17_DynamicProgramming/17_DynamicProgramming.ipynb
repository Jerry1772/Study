{
 "cells": [
  {
   "cell_type": "markdown",
   "id": "eb8eddd3-1669-4858-bedf-fdea5f01115b",
   "metadata": {},
   "source": [
    "# Dynamic Programming\n",
    "문제를 작은 단위로 쪼개서 해결해가며, 작은 단위에서의 답을 저장해서 재사용하여 반복을 줄인다.\n",
    "\n",
    "- 코인 개수 문제\n",
    "```python\n",
    "# 더 큰 코인이 작은 코인의 배수가 되지 않는다면, 그리디 알고리즘은 틀릴 수 있다.\n",
    "# 2차원 배열을 만들어두고, column은 지불하는 가격, row는 추가적으로 사용할 수 있는 coin으로 둔다.\n",
    "def dynamic_coin(M:list, k:int):\n",
    "    result = [\n",
    "        [0 for _ in range(k+1)]\n",
    "        for _ in range(len(M)+1)\n",
    "    ]\n",
    "    result[0][1:] = [float('inf') for _ in range(k)]\n",
    "\n",
    "    for row in range(1, len(M)+1):\n",
    "        coin = M[row-1]\n",
    "        result[row][:coin] = result[row-1][:coin] # coin 보다 작은 금액은 그냥 이전 값을 그대로 끌어온다.\n",
    "        \n",
    "        for col in range(coin, k+1):\n",
    "            result[row][col] = min(result[row][col-coin]+1, result[row-1][col])\n",
    "    return result[-1][-1]\n",
    "            \n",
    "```"
   ]
  },
  {
   "cell_type": "markdown",
   "id": "887451af-67ea-4406-bb72-56d99be365b4",
   "metadata": {},
   "source": [
    "# <span style=\"color:Salmon\">NumberSolitaire</span>"
   ]
  },
  {
   "cell_type": "markdown",
   "id": "333a9825-5a5e-4ca7-b617-e5a642add783",
   "metadata": {},
   "source": [
    "<div class=\"brinza-task-description\">\n",
    "<p>A game for one player is played on a board consisting of N consecutive squares, numbered from 0 to N − 1. There is a number written on each square. A non-empty array A of N integers contains the numbers written on the squares. Moreover, some squares can be marked during the game.</p>\n",
    "<p>At the beginning of the game, there is a pebble on square number 0 and this is the only square on the board which is marked. The goal of the game is to move the pebble to square number N − 1.</p>\n",
    "<p>During each turn we throw a six-sided die, with numbers from 1 to 6 on its faces, and consider the number K, which shows on the upper face after the die comes to rest. Then we move the pebble standing on square number I to square number I + K, providing that square number I + K exists. If square number I + K does not exist, we throw the die again until we obtain a valid move. Finally, we mark square number I + K.</p>\n",
    "<p>After the game finishes (when the pebble is standing on square number N − 1), we calculate the result. The result of the game is the sum of the numbers written on all marked squares.</p>\n",
    "<p>For example, given the following array:</p>\n",
    "<tt style=\"white-space:pre-wrap\">    A[0] = 1\n",
    "    A[1] = -2\n",
    "    A[2] = 0\n",
    "    A[3] = 9\n",
    "    A[4] = -1\n",
    "    A[5] = -2</tt>\n",
    "<p>one possible game could be as follows:</p>\n",
    "<blockquote><ul style=\"margin: 10px;padding: 0px;\"><li>the pebble is on square number 0, which is marked;</li>\n",
    "<li>we throw 3; the pebble moves from square number 0 to square number 3; we mark square number 3;</li>\n",
    "<li>we throw 5; the pebble does not move, since there is no square number 8 on the board;</li>\n",
    "<li>we throw 2; the pebble moves to square number 5; we mark this square and the game ends.</li>\n",
    "</ul>\n",
    "</blockquote><p>The marked squares are 0, 3 and 5, so the result of the game is 1 + 9 + (−2) = 8. This is the maximal possible result that can be achieved on this board.</p>\n",
    "<p>Write a function:</p>\n",
    "<blockquote><p style=\"font-family: monospace; font-size: 9pt; display: block; white-space: pre-wrap\"><tt>def solution(A)</tt></p></blockquote>\n",
    "<p>that, given a non-empty array A of N integers, returns the maximal result that can be achieved on the board represented by array A.</p>\n",
    "<p>For example, given the array</p>\n",
    "<tt style=\"white-space:pre-wrap\">    A[0] = 1\n",
    "    A[1] = -2\n",
    "    A[2] = 0\n",
    "    A[3] = 9\n",
    "    A[4] = -1\n",
    "    A[5] = -2</tt>\n",
    "<p>the function should return 8, as explained above.</p>\n",
    "<p>Write an <b><b>efficient</b></b> algorithm for the following assumptions:</p>\n",
    "<blockquote><ul style=\"margin: 10px;padding: 0px;\"><li>N is an integer within the range [<span class=\"number\">2</span>..<span class=\"number\">100,000</span>];</li>\n",
    "<li>each element of array A is an integer within the range [<span class=\"number\">−10,000</span>..<span class=\"number\">10,000</span>].</li>\n",
    "</ul>\n",
    "</blockquote></div>"
   ]
  },
  {
   "cell_type": "code",
   "execution_count": null,
   "id": "08de84e8-a8d6-4c30-b02d-7c8fe7ca0e08",
   "metadata": {},
   "outputs": [],
   "source": []
  },
  {
   "cell_type": "markdown",
   "id": "eee1a40f-59e2-4bcd-9cda-b5bd032ee7c0",
   "metadata": {},
   "source": [
    "# <span style=\"color:Salmon\">MinAbsSum</span>"
   ]
  },
  {
   "cell_type": "markdown",
   "id": "5032e26d-9829-4a64-b5fd-6634465910b7",
   "metadata": {},
   "source": [
    "<div class=\"brinza-task-description\">\n",
    "<p>For a given array A of N integers and a sequence S of N integers from the set {−1, 1}, we define val(A, S) as follows:</p>\n",
    "<blockquote><p>val(A, S) = |<b>sum</b>{ A[i]*S[i] for i = 0..N−1 }|</p></blockquote>\n",
    "<p>(Assume that the sum of zero elements equals zero.)</p>\n",
    "<p>For a given array A, we are looking for such a sequence S that minimizes val(A,S).</p>\n",
    "<p>Write a function:</p>\n",
    "<blockquote><p style=\"font-family: monospace; font-size: 9pt; display: block; white-space: pre-wrap\"><tt>class Solution { public int solution(int[] A); }</tt></p></blockquote>\n",
    "<p>that, given an array A of N integers, computes the minimum value of val(A,S) from all possible values of val(A,S) for all possible sequences S of N integers from the set {−1, 1}.</p>\n",
    "<p>For example, given array:</p>\n",
    "<tt style=\"white-space:pre-wrap\">  A[0] =  1\n",
    "  A[1] =  5\n",
    "  A[2] =  2\n",
    "  A[3] = -2</tt>\n",
    "<p>your function should return 0, since for S = [−1, 1, −1, 1], val(A, S) = 0, which is the minimum possible value.</p>\n",
    "<p>Write an <b><b>efficient</b></b> algorithm for the following assumptions:</p>\n",
    "<blockquote><ul style=\"margin: 10px;padding: 0px;\"><li>N is an integer within the range [<span class=\"number\">0</span>..<span class=\"number\">20,000</span>];</li>\n",
    "<li>each element of array A is an integer within the range [<span class=\"number\">−100</span>..<span class=\"number\">100</span>].</li>\n",
    "</ul>\n",
    "</blockquote></div>"
   ]
  },
  {
   "cell_type": "code",
   "execution_count": 6,
   "id": "da5cf290-7e0e-4290-863d-03c10c353687",
   "metadata": {},
   "outputs": [
    {
     "data": {
      "text/plain": [
       "3"
      ]
     },
     "execution_count": 6,
     "metadata": {},
     "output_type": "execute_result"
    }
   ],
   "source": []
  }
 ],
 "metadata": {
  "kernelspec": {
   "display_name": "Python 3 (ipykernel)",
   "language": "python",
   "name": "python3"
  },
  "language_info": {
   "codemirror_mode": {
    "name": "ipython",
    "version": 3
   },
   "file_extension": ".py",
   "mimetype": "text/x-python",
   "name": "python",
   "nbconvert_exporter": "python",
   "pygments_lexer": "ipython3",
   "version": "3.10.12"
  }
 },
 "nbformat": 4,
 "nbformat_minor": 5
}
