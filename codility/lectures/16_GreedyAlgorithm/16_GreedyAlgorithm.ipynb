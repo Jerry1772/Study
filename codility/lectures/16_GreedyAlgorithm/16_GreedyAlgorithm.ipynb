{
 "cells": [
  {
   "cell_type": "markdown",
   "id": "eb8eddd3-1669-4858-bedf-fdea5f01115b",
   "metadata": {},
   "source": [
    "# Greedy Algorithms  \n",
    "그리디하게 지역 최적해를 전역 최적해로 가정하고 푸는 방법이다.\n",
    "\n",
    "- 코인 개수 문제\n",
    "```python\n",
    "# 코인 조합으로 특정 가격을 지불할 때 최소 코인 수를 구하는 문제\n",
    "def greedy_coin(M:list, k:int):\n",
    "    result = []\n",
    "    for coin in sorted(M, reverse=True):\n",
    "        result.append((coin, k//coin))\n",
    "        k %= coin\n",
    "    return result\n",
    "```\n",
    "\n",
    "- 2인 카누 개수 문제\n",
    "```python\n",
    "# 사람 조합으로 특정 무게 이하의 최소 카누 수를 구하는 문제\n",
    "def greedy_canoe(W:list, k:int):\n",
    "    result = 0\n",
    "    left = 0\n",
    "    right = len(W)-1\n",
    "    while left<=right:\n",
    "        if W[left]+W[right] <= k:\n",
    "            left += 1\n",
    "        result += 1\n",
    "        right -= 1\n",
    "    return result\n",
    "```"
   ]
  },
  {
   "cell_type": "markdown",
   "id": "887451af-67ea-4406-bb72-56d99be365b4",
   "metadata": {},
   "source": [
    "# <span style=\"color:Salmon\">MaxNonoverlappingSegments</span>"
   ]
  },
  {
   "cell_type": "markdown",
   "id": "333a9825-5a5e-4ca7-b617-e5a642add783",
   "metadata": {},
   "source": [
    "<div class=\"brinza-task-description\">\n",
    "<p>Located on a line are N segments, numbered from 0 to N − 1, whose positions are given in arrays A and B. For each I (0 ≤ I &lt; N) the position of segment I is from A[I] to B[I] (inclusive). The segments are sorted by their ends, which means that B[K] ≤ B[K + 1] for K such that 0 ≤ K &lt; N − 1.</p>\n",
    "<p>Two segments I and J, such that I ≠ J, are <i>overlapping</i> if they share at least one common point. In other words, A[I] ≤ A[J] ≤ B[I] or A[J] ≤ A[I] ≤ B[J].</p>\n",
    "<p>We say that the set of segments is <i>non-overlapping</i> if it contains no two overlapping segments. The goal is to find the size of a non-overlapping set containing the maximal number of segments.</p>\n",
    "<p>For example, consider arrays A, B such that:</p>\n",
    "<tt style=\"white-space: pre-wrap;\">    A[0] = 1    B[0] = 5\n",
    "    A[1] = 3    B[1] = 6\n",
    "    A[2] = 7    B[2] = 8\n",
    "    A[3] = 9    B[3] = 9\n",
    "    A[4] = 9    B[4] = 10</tt>\n",
    "<p>The segments are shown in the figure below.</p>\n",
    "<p><img src=\"https://codility-frontend-prod.s3.amazonaws.com/media/task_static/max_nonoverlapping_segments/static/images/auto/68b279360bc48af61d9d3bdfbe1d30fe.png\" class=\"inline-description-image\"></p>\n",
    "<p>The size of a non-overlapping set containing a maximal number of segments is 3. For example, possible sets are {0, 2, 3}, {0, 2, 4}, {1, 2, 3} or {1, 2, 4}. There is no non-overlapping set with four segments.</p>\n",
    "<p>Write a function:</p>\n",
    "<blockquote><p style=\"font-family: monospace; font-size: 9pt; display: block; white-space: pre-wrap;\"><tt>def solution(A, B)</tt></p></blockquote>\n",
    "<p>that, given two arrays A and B consisting of N integers, returns the size of a non-overlapping set containing a maximal number of segments.</p>\n",
    "<p>For example, given arrays A, B shown above, the function should return 3, as explained above.</p>\n",
    "<p>Write an <b><b>efficient</b></b> algorithm for the following assumptions:</p>\n",
    "<blockquote><ul style=\"margin: 10px; padding: 0px;\"><li>N is an integer within the range [<span class=\"number\">0</span>..<span class=\"number\">30,000</span>];</li>\n",
    "<li>each element of arrays A and B is an integer within the range [<span class=\"number\">0</span>..<span class=\"number\">1,000,000,000</span>];</li>\n",
    "<li>A[I] ≤ B[I], for each I (0 ≤ I &lt; N);</li>\n",
    "<li>B[K] ≤ B[K + 1], for each K (0 ≤ K &lt; N − 1).</li>\n",
    "</ul>\n",
    "</blockquote></div>"
   ]
  },
  {
   "cell_type": "code",
   "execution_count": 4,
   "id": "08de84e8-a8d6-4c30-b02d-7c8fe7ca0e08",
   "metadata": {},
   "outputs": [
    {
     "data": {
      "text/plain": [
       "3"
      ]
     },
     "execution_count": 4,
     "metadata": {},
     "output_type": "execute_result"
    }
   ],
   "source": [
    "# 빨리 끝나는 애들이 정렬되어 있으니, 그냥 무식하게 되면 집어넣고 안되면 넘기는 방식이 어떨까\n",
    "def solution(A, B):\n",
    "    answer = 0\n",
    "    last_end = -1\n",
    "    for a, b in zip(A, B):\n",
    "        if last_end < a:\n",
    "            answer += 1\n",
    "            last_end = b\n",
    "    return answer\n",
    "\n",
    "solution([1,3,7,9,9], [5,6,8,9,10])"
   ]
  },
  {
   "cell_type": "markdown",
   "id": "eee1a40f-59e2-4bcd-9cda-b5bd032ee7c0",
   "metadata": {},
   "source": [
    "# <span style=\"color:Salmon\">TieRopes</span>"
   ]
  },
  {
   "cell_type": "markdown",
   "id": "5032e26d-9829-4a64-b5fd-6634465910b7",
   "metadata": {},
   "source": [
    "<div class=\"brinza-task-description\">\n",
    "<p>There are N ropes numbered from 0 to N − 1, whose lengths are given in an array A, lying on the floor in a line. For each I (0 ≤ I &lt; N), the length of rope I on the line is A[I].</p>\n",
    "<p>We say that two ropes I and I + 1 are <i>adjacent</i>. Two adjacent ropes can be tied together with a knot, and the length of the tied rope is the sum of lengths of both ropes. The resulting new rope can then be tied again.</p>\n",
    "<p>For a given integer K, the goal is to tie the ropes in such a way that the number of ropes whose length is greater than or equal to K is maximal.</p>\n",
    "<p>For example, consider K = 4 and array A such that:</p>\n",
    "<tt style=\"white-space: pre-wrap;\">    A[0] = 1\n",
    "    A[1] = 2\n",
    "    A[2] = 3\n",
    "    A[3] = 4\n",
    "    A[4] = 1\n",
    "    A[5] = 1\n",
    "    A[6] = 3</tt>\n",
    "<p>The ropes are shown in the figure below.</p>\n",
    "<p><img src=\"https://codility-frontend-prod.s3.amazonaws.com/media/task_static/tie_ropes/static/images/auto/f13a51b17fba1ea9b8ea7fd37006f767.png\" class=\"inline-description-image\"></p>\n",
    "<p>We can tie:</p>\n",
    "<blockquote><ul style=\"margin: 10px; padding: 0px;\"><li>rope 1 with rope 2 to produce a rope of length A[1] + A[2] = 5;</li>\n",
    "<li>rope 4 with rope 5 with rope 6 to produce a rope of length A[4] + A[5] + A[6] = 5.</li>\n",
    "</ul>\n",
    "</blockquote><p>After that, there will be three ropes whose lengths are greater than or equal to K = 4. It is not possible to produce four such ropes.</p>\n",
    "<p>Write a function:</p>\n",
    "<blockquote><p style=\"font-family: monospace; font-size: 9pt; display: block; white-space: pre-wrap;\"><tt>def solution(K, A)</tt></p></blockquote>\n",
    "<p>that, given an integer K and a non-empty array A of N integers, returns the maximum number of ropes of length greater than or equal to K that can be created.</p>\n",
    "<p>For example, given K = 4 and array A such that:</p>\n",
    "<tt style=\"white-space: pre-wrap;\">    A[0] = 1\n",
    "    A[1] = 2\n",
    "    A[2] = 3\n",
    "    A[3] = 4\n",
    "    A[4] = 1\n",
    "    A[5] = 1\n",
    "    A[6] = 3</tt>\n",
    "<p>the function should return 3, as explained above.</p>\n",
    "<p>Write an <b><b>efficient</b></b> algorithm for the following assumptions:</p>\n",
    "<blockquote><ul style=\"margin: 10px; padding: 0px;\"><li>N is an integer within the range [<span class=\"number\">1</span>..<span class=\"number\">100,000</span>];</li>\n",
    "<li>K is an integer within the range [<span class=\"number\">1</span>..<span class=\"number\">1,000,000,000</span>];</li>\n",
    "<li>each element of array A is an integer within the range [<span class=\"number\">1</span>..<span class=\"number\">1,000,000,000</span>].</li>\n",
    "</ul>\n",
    "</blockquote></div>"
   ]
  },
  {
   "cell_type": "code",
   "execution_count": 6,
   "id": "da5cf290-7e0e-4290-863d-03c10c353687",
   "metadata": {},
   "outputs": [
    {
     "data": {
      "text/plain": [
       "3"
      ]
     },
     "execution_count": 6,
     "metadata": {},
     "output_type": "execute_result"
    }
   ],
   "source": [
    "# 너무 작아서 한 번 묶어서 못만들면, 어차피 버려진다. (인접해야만 조합되므로)\n",
    "# 그러니 그냥 무식하게 다 묶어가면서 확인하면 된다.\n",
    "def solution(K, A):\n",
    "    last_length = 0\n",
    "    answer = 0\n",
    "    \n",
    "    for a in A:\n",
    "        last_length += a\n",
    "        if last_length >= K:\n",
    "            last_length = 0\n",
    "            answer += 1\n",
    "    return answer\n",
    "\n",
    "solution(4, [1,2,3,4,1,1,3])"
   ]
  }
 ],
 "metadata": {
  "kernelspec": {
   "display_name": "Python 3 (ipykernel)",
   "language": "python",
   "name": "python3"
  },
  "language_info": {
   "codemirror_mode": {
    "name": "ipython",
    "version": 3
   },
   "file_extension": ".py",
   "mimetype": "text/x-python",
   "name": "python",
   "nbconvert_exporter": "python",
   "pygments_lexer": "ipython3",
   "version": "3.9.19"
  }
 },
 "nbformat": 4,
 "nbformat_minor": 5
}
