{
 "cells": [
  {
   "attachments": {
    "5704c16d-74ec-43e3-9124-39dd56827eb2.png": {
     "image/png": "[encoded data removed]"
    },
    "c86d4a2a-e555-4f68-83db-76e1c58fc99c.png": {
     "image/png": "[encoded data removed]"
    },
    "ff26ccf7-5188-45a4-874a-1ad0ad45b5c0.png": {
     "image/png": "[encoded data removed]"
    }
   },
   "cell_type": "markdown",
   "id": "9a5b67da-ce50-46c5-a08f-f1e37fe323c2",
   "metadata": {},
   "source": [
    "# Fibonacci Numbers  \n",
    "피보나치 수는 재귀적 방식, DP 방식으로 해결하는 것이 가장 잘 알려져있다.  \n",
    "이거보다 빠른 방법이 있는데, 아래와 같다고 한다.\n",
    "\n",
    "1. 행렬 연산을 이용한 방법 $O(\\log{n})$  \n",
    "![image.png](attachment:c86d4a2a-e555-4f68-83db-76e1c58fc99c.png)\n",
    "\n",
    "2. 일반항을 이용하는 방법\n",
    "$Fib_n = {{({{1+\\sqrt{5}}\\over{2}})^n - ({{1-\\sqrt{5}}\\over{2}})^n}\\over{\\sqrt{5}}} $"
   ]
  },
  {
   "cell_type": "markdown",
   "id": "28caf397-0f60-4774-945b-ae866ddf85e4",
   "metadata": {},
   "source": [
    "# <span style=\"color:Salmon\">FibFrog</span>"
   ]
  },
  {
   "cell_type": "markdown",
   "id": "df5d2ae0-92f3-43c4-ae8d-0308116ce700",
   "metadata": {},
   "source": [
    "<div class=\"brinza-task-description\">\n",
    "<p>The Fibonacci sequence is defined using the following recursive formula:</p>\n",
    "<tt style=\"white-space: pre-wrap;\">    F(0) = 0\n",
    "    F(1) = 1\n",
    "    F(M) = F(M - 1) + F(M - 2) if M &gt;= 2</tt>\n",
    "<p>A small frog wants to get to the other side of a river. The frog is initially located at one bank of the river (position −1) and wants to get to the other bank (position N). The frog can jump over any distance F(K), where F(K) is the K-th Fibonacci number. Luckily, there are many leaves on the river, and the frog can jump between the leaves, but only in the direction of the bank at position N.</p>\n",
    "<p>The leaves on the river are represented in an array A consisting of N integers. Consecutive elements of array A represent consecutive positions from 0 to N − 1 on the river. Array A contains only 0s and/or 1s:</p>\n",
    "<blockquote><ul style=\"margin: 10px; padding: 0px;\"><li>0 represents a position without a leaf;</li>\n",
    "<li>1 represents a position containing a leaf.</li>\n",
    "</ul>\n",
    "</blockquote><p>The goal is to count the minimum number of jumps in which the frog can get to the other side of the river (from position −1 to position N). The frog can jump between positions −1 and N (the banks of the river) and every position containing a leaf.</p>\n",
    "<p>For example, consider array A such that:</p>\n",
    "<tt style=\"white-space: pre-wrap;\">    A[0] = 0\n",
    "    A[1] = 0\n",
    "    A[2] = 0\n",
    "    A[3] = 1\n",
    "    A[4] = 1\n",
    "    A[5] = 0\n",
    "    A[6] = 1\n",
    "    A[7] = 0\n",
    "    A[8] = 0\n",
    "    A[9] = 0\n",
    "    A[10] = 0</tt>\n",
    "<p>The frog can make three jumps of length F(5) = 5, F(3) = 2 and F(5) = 5.</p>\n",
    "<p>Write a function:</p>\n",
    "<blockquote><p style=\"font-family: monospace; font-size: 9pt; display: block; white-space: pre-wrap;\"><tt>def solution(A)</tt></p></blockquote>\n",
    "<p>that, given an array A consisting of N integers, returns the minimum number of jumps by which the frog can get to the other side of the river. If the frog cannot reach the other side of the river, the function should return −1.</p>\n",
    "<p>For example, given:</p>\n",
    "<tt style=\"white-space: pre-wrap;\">    A[0] = 0\n",
    "    A[1] = 0\n",
    "    A[2] = 0\n",
    "    A[3] = 1\n",
    "    A[4] = 1\n",
    "    A[5] = 0\n",
    "    A[6] = 1\n",
    "    A[7] = 0\n",
    "    A[8] = 0\n",
    "    A[9] = 0\n",
    "    A[10] = 0</tt>\n",
    "<p>the function should return 3, as explained above.</p>\n",
    "<p>Write an <b><b>efficient</b></b> algorithm for the following assumptions:</p>\n",
    "<blockquote><ul style=\"margin: 10px; padding: 0px;\"><li>N is an integer within the range [<span class=\"number\">0</span>..<span class=\"number\">100,000</span>];</li>\n",
    "<li>each element of array A is an integer that can have one of the following values: 0, 1.</li>\n",
    "</ul>\n",
    "</blockquote></div>"
   ]
  },
  {
   "cell_type": "code",
   "execution_count": 36,
   "id": "aa5f1468-d367-4a2c-a4ab-cf31f89ed701",
   "metadata": {},
   "outputs": [
    {
     "name": "stdout",
     "output_type": "stream",
     "text": [
      "[0, 0, 0, 0, 0, 0, 0, 0, 0, 0, 0, 0]\n",
      "[0, 0, 0, 0, 1, 0, 0, 0, 0, 0, 0, 0]\n",
      "[0, 0, 0, 0, 1, 0, 2, 0, 0, 0, 0, 0]\n",
      "[0, 0, 0, 0, 1, 0, 2, 0, 0, 0, 0, 3]\n"
     ]
    },
    {
     "data": {
      "text/plain": [
       "3"
      ]
     },
     "execution_count": 36,
     "metadata": {},
     "output_type": "execute_result"
    }
   ],
   "source": [
    "# 이거 피보나치 수는 10만까지 가봤자 몇 개 안됨 (25개?)\n",
    "# 그럼 매 leaf마다 피보나치 수로 역주행해가며 어디선가 닿을 수 있었으면 1, 아니면 0으로 갱신해버리면 됨 (여기까지 올 수 있었느냐?)\n",
    "\n",
    "def solution(n):\n",
    "    fib = [1, 2]\n",
    "    for _ in range(22):\n",
    "        fib.append(fib[-1]+fib[-2])\n",
    "\n",
    "    possible = [0 for _ in range(len(n)+1)]\n",
    "    \n",
    "    for idx, val in enumerate(n+[1]):\n",
    "        if not val:\n",
    "            continue\n",
    "        for f in fib:\n",
    "            idxf = idx-f\n",
    "            if idxf < -1:\n",
    "                break\n",
    "            if idxf == -1:\n",
    "                possible[idx] = 1\n",
    "                break\n",
    "            if not possible[idxf]:\n",
    "                continue\n",
    "            if not possible[idx]:\n",
    "                possible[idx] = possible[idxf]+1\n",
    "            else:\n",
    "                possible[idx] = min(possible[idx], possible[idxf]+1)\n",
    "\n",
    "    return possible[-1] if possible[-1] else -1\n",
    "    \n",
    "solution([0,0,0,1,1,0,1,0,0,0,0])"
   ]
  },
  {
   "cell_type": "markdown",
   "id": "a52be8d8-c0e2-497e-a314-083f34a08a10",
   "metadata": {},
   "source": [
    "# <span style=\"color:Salmon\">Ladder</span>"
   ]
  },
  {
   "cell_type": "markdown",
   "id": "e1e5aa16-1144-45c2-9bc6-505d2cf21e8f",
   "metadata": {},
   "source": [
    "<div class=\"brinza-task-description\">\n",
    "<p>You have to climb up a ladder. The ladder has exactly N rungs, numbered from 1 to N. With each step, you can ascend by one or two rungs. More precisely:</p>\n",
    "<blockquote><ul style=\"margin: 10px; padding: 0px;\"><li>with your first step you can stand on rung 1 or 2,</li>\n",
    "<li>if you are on rung K, you can move to rungs K + 1 or K + 2,</li>\n",
    "<li>finally you have to stand on rung N.</li>\n",
    "</ul>\n",
    "</blockquote><p>Your task is to count the number of different ways of climbing to the top of the ladder.</p>\n",
    "<p>For example, given N = 4, you have five different ways of climbing, ascending by:</p>\n",
    "<blockquote><ul style=\"margin: 10px; padding: 0px;\"><li>1, 1, 1 and 1 rung,</li>\n",
    "<li>1, 1 and 2 rungs,</li>\n",
    "<li>1, 2 and 1 rung,</li>\n",
    "<li>2, 1 and 1 rungs, and</li>\n",
    "<li>2 and 2 rungs.</li>\n",
    "</ul>\n",
    "</blockquote><p>Given N = 5, you have eight different ways of climbing, ascending by:</p>\n",
    "<blockquote><ul style=\"margin: 10px; padding: 0px;\"><li>1, 1, 1, 1 and 1 rung,</li>\n",
    "<li>1, 1, 1 and 2 rungs,</li>\n",
    "<li>1, 1, 2 and 1 rung,</li>\n",
    "<li>1, 2, 1 and 1 rung,</li>\n",
    "<li>1, 2 and 2 rungs,</li>\n",
    "<li>2, 1, 1 and 1 rungs,</li>\n",
    "<li>2, 1 and 2 rungs, and</li>\n",
    "<li>2, 2 and 1 rung.</li>\n",
    "</ul>\n",
    "</blockquote><p>The number of different ways can be very large, so it is sufficient to return the result modulo 2<sup>P</sup>, for a given integer P.</p>\n",
    "<p>Write a function:</p>\n",
    "<blockquote><p style=\"font-family: monospace; font-size: 9pt; display: block; white-space: pre-wrap;\"><tt>def solution(A, B)</tt></p></blockquote>\n",
    "<p>that, given two non-empty arrays A and B of L integers, returns an array consisting of L integers specifying the consecutive answers; position I should contain the number of different ways of climbing the ladder with A[I] rungs modulo 2<sup>B[I]</sup>.</p>\n",
    "<p>For example, given L = 5 and:</p>\n",
    "<tt style=\"white-space: pre-wrap;\">    A[0] = 4   B[0] = 3\n",
    "    A[1] = 4   B[1] = 2\n",
    "    A[2] = 5   B[2] = 4\n",
    "    A[3] = 5   B[3] = 3\n",
    "    A[4] = 1   B[4] = 1</tt>\n",
    "<p>the function should return the sequence [5, 1, 8, 0, 1], as explained above.</p>\n",
    "<p>Write an <b><b>efficient</b></b> algorithm for the following assumptions:</p>\n",
    "<blockquote><ul style=\"margin: 10px; padding: 0px;\"><li>L is an integer within the range [<span class=\"number\">1</span>..<span class=\"number\">50,000</span>];</li>\n",
    "<li>each element of array A is an integer within the range [<span class=\"number\">1</span>..<span class=\"number\">L</span>];</li>\n",
    "<li>each element of array B is an integer within the range [<span class=\"number\">1</span>..<span class=\"number\">30</span>].</li>\n",
    "</ul>\n",
    "</blockquote></div>"
   ]
  },
  {
   "cell_type": "code",
   "execution_count": 57,
   "id": "cc4edeeb-93ae-4654-881d-08df5d2f44db",
   "metadata": {
    "scrolled": true
   },
   "outputs": [
    {
     "data": {
      "text/plain": [
       "[5, 1, 8, 0, 1]"
      ]
     },
     "execution_count": 57,
     "metadata": {},
     "output_type": "execute_result"
    }
   ],
   "source": [
    "# 문제 자체가 피보나치 수열의 정의다.\n",
    "# n번째 스텝에 오르는 방법은 n-2번쨰 스텝에서 한번에 오는방법 또는 n-1번쨰 스텝에서 한번에 오는 방법밖에 없다.\n",
    "\n",
    "def solution(A, B):\n",
    "    fib = [0,1,2] + [0 for _ in range(len(A)-2)]\n",
    "    for i in range(3, len(A)+1):\n",
    "        fib[i] = (fib[i-1]+fib[i-2])%(2**30)\n",
    "\n",
    "    answer = []\n",
    "    for a, b in zip(A, B):\n",
    "        answer.append(fib[a]%(2**b))\n",
    "    return answer\n",
    "\n",
    "solution([4,4,5,5,1], [3,2,4,3,1])"
   ]
  }
 ],
 "metadata": {
  "kernelspec": {
   "display_name": "Python 3 (ipykernel)",
   "language": "python",
   "name": "python3"
  },
  "language_info": {
   "codemirror_mode": {
    "name": "ipython",
    "version": 3
   },
   "file_extension": ".py",
   "mimetype": "text/x-python",
   "name": "python",
   "nbconvert_exporter": "python",
   "pygments_lexer": "ipython3",
   "version": "3.9.19"
  }
 },
 "nbformat": 4,
 "nbformat_minor": 5
}
