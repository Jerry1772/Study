{
 "cells": [
  {
   "cell_type": "markdown",
   "id": "24fae0b2-2e5d-425d-bbf9-7d053a1b4ba9",
   "metadata": {},
   "source": [
    "# <span style=\"color:Salmon\">Bracket</span>"
   ]
  },
  {
   "cell_type": "code",
   "execution_count": null,
   "id": "56fed2ec-0580-4fd1-86c5-3c3861966f92",
   "metadata": {},
   "outputs": [],
   "source": [
    "# Queue를 써서 쌍을 찾아주면 됨\n",
    "def solution(S):\n",
    "    couple = {\")\":\"(\", \"]\":\"[\", \"}\":\"{\"}\n",
    "    queue = []\n",
    "    for s in S:\n",
    "        c = couple.get(s)\n",
    "        if c is None:\n",
    "            queue.append(s)\n",
    "        elif queue and c==queue[-1]:\n",
    "            queue.pop()\n",
    "        else:\n",
    "            return 0\n",
    "    return 1 if not queue else 0"
   ]
  },
  {
   "cell_type": "markdown",
   "id": "16abfd56-e59e-4779-92be-53d1a903f14b",
   "metadata": {},
   "source": [
    "# <span style=\"color:Salmon\">Fish</span>"
   ]
  },
  {
   "cell_type": "code",
   "execution_count": null,
   "id": "0d37d333-36b0-4df4-ba63-3e284c1d7cc4",
   "metadata": {},
   "outputs": [],
   "source": [
    "# queue에 size, direction을 담을건데, direction==0이면 queue의 마지막 원소 direction==0인지 확인\n",
    "# 0이면 그대로 넣고, 1이면 대결을 한다\n",
    "# 1이 여러개 쌓여있을 수도 있으니, queue가 비지 않고 size가 더 큰 direction==1이 나오지 않은 한 계속한다.\n",
    "def solution(A, B):\n",
    "    queue = []\n",
    "    for size, direction in zip(A, B):\n",
    "        while queue and queue[-1][1]>direction and queue[-1][0]<size: # 큐가 남아있고, 디렉션이 마주보고, 사이즈가 더 크면 큐 마지막 원소를 제거\n",
    "            queue.pop()\n",
    "        if not queue or queue[-1][1]<=direction: # 위의 결과에서 다 먹어치워서 큐가 비었거나, 사이즈가 아닌 디렉션이 마주보지 않고 끝나면 도전자가 다 이긴거니 append\n",
    "            queue.append((size, direction))"
   ]
  },
  {
   "cell_type": "markdown",
   "id": "bb20efba-5d8e-46b9-b22d-18e21d66e240",
   "metadata": {},
   "source": [
    "# <span style=\"color:Salmon\">Nesting</span>"
   ]
  },
  {
   "cell_type": "code",
   "execution_count": null,
   "id": "2b9f9cf8-b209-4a69-a67a-43d7638bfb44",
   "metadata": {},
   "outputs": [],
   "source": [
    "# 괄호가 여러개 열리는 것은 무관하지만, 과하게 닫히면 안된다.\n",
    "# 다 끝나고 나서도 괄호가 전부 닫혀야한다.\n",
    "def solution(S):\n",
    "    count = 0\n",
    "    for s in S:\n",
    "        if s==\"(\":\n",
    "            count += 1\n",
    "        else:\n",
    "            count -=1\n",
    "        if count<0:\n",
    "            return 0\n",
    "    return 1 if not count else 0"
   ]
  },
  {
   "cell_type": "markdown",
   "id": "b6da70e9-1975-4ec2-899e-2d6e1dff5221",
   "metadata": {},
   "source": [
    "# <span style=\"color:Salmon\">StoneWall</span>"
   ]
  },
  {
   "cell_type": "code",
   "execution_count": 5,
   "id": "518f7ca2-32e8-4299-bf19-0a0870ef7ed7",
   "metadata": {},
   "outputs": [],
   "source": [
    "# queue 에 size를 담고있다가, 더 큰게 나타나면 queue에 해당 크기를 집어넣는다\n",
    "# 더 작은게 나타나면 queue에서 마지막 원소를 뽑고 answer ++\n",
    "# 아직 queue에 넣지말고 마지막 원소랑 또 비교를 반복\n",
    "def solution(H):\n",
    "    queue = []\n",
    "    answer = 0\n",
    "    for h in H:\n",
    "        while queue and queue[-1]>h:\n",
    "            queue.pop()\n",
    "            answer += 1\n",
    "        if not queue or queue[-1]<h:\n",
    "            queue.append(h)\n",
    "    return answer+len(queue)"
   ]
  }
 ],
 "metadata": {
  "kernelspec": {
   "display_name": "Python 3 (ipykernel)",
   "language": "python",
   "name": "python3"
  },
  "language_info": {
   "codemirror_mode": {
    "name": "ipython",
    "version": 3
   },
   "file_extension": ".py",
   "mimetype": "text/x-python",
   "name": "python",
   "nbconvert_exporter": "python",
   "pygments_lexer": "ipython3",
   "version": "3.9.19"
  }
 },
 "nbformat": 4,
 "nbformat_minor": 5
}
