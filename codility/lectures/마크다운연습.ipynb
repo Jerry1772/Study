{
 "cells": [
  {
   "cell_type": "markdown",
   "id": "62ef3135-3048-4a60-ba34-7798b97a1188",
   "metadata": {},
   "source": [
    "# 1. 인용 연습\n",
    "\n",
    "늦었다고 생각할 때가 진짜 늦었다.\n",
    "> 박명수"
   ]
  },
  {
   "cell_type": "markdown",
   "id": "cae5312a-fb0f-4735-aa8c-2353dd4e92b0",
   "metadata": {},
   "source": [
    "# 2. 수평선 연습\n",
    "\n",
    "이거랑\n",
    "***\n",
    "이거랑\n",
    "<hr/>\n",
    "이거랑<br/>\n",
    "이거도?\n",
    "\n",
    "> 근데 \"---\" 도 수평선 된다고 나와있는데, 실제로 써보면 안됨;;"
   ]
  },
  {
   "cell_type": "markdown",
   "id": "15c5ea36-bc09-42fe-a0ce-45ef94eabd65",
   "metadata": {},
   "source": [
    "# 3. 줄바꿈 연습\n",
    "\n",
    "두 번 엔터치지 말고  \n",
    "스페이스바 두개 넣으면  \n",
    "된다\n",
    "\n",
    "<hr/>\n",
    "\n",
    "또는, \\<br> 넣으면 된다<br/>\n",
    "ㅋㅋ"
   ]
  },
  {
   "cell_type": "markdown",
   "id": "2ffe4ebe-ff24-4322-8005-ff6a6c7b0865",
   "metadata": {},
   "source": [
    "# 4. 스타일 연습\n",
    "\n",
    "스타일은 html에 style attribute로 선언한다.<br/>\n",
    "여러개 넣으려면 콜론으로 구분한다\n",
    "- ex) <span style=\"font-size:15px;color:red;font-weight:bold;font-style:italic\"> 이렇게 </span>"
   ]
  },
  {
   "cell_type": "markdown",
   "id": "119b35a1-61f9-4e5f-8f92-8e996599a00b",
   "metadata": {},
   "source": [
    "# 5. 링크 연습\n",
    "\n",
    "1. https://leedakyeong.tistory.com/entry/Markdown-Jupyter-Notebook-%EC%A3%BC%ED%94%BC%ED%84%B0-%EB%85%B8%ED%8A%B8%EB%B6%81-%EB%A7%88%ED%81%AC%EB%8B%A4%EC%9A%B4-%EC%A0%95%EB%A6%AC <br/><br/>\n",
    "2. [내가 참조한 블로그](https://leedakyeong.tistory.com/entry/Markdown-Jupyter-Notebook-%EC%A3%BC%ED%94%BC%ED%84%B0-%EB%85%B8%ED%8A%B8%EB%B6%81-%EB%A7%88%ED%81%AC%EB%8B%A4%EC%9A%B4-%EC%A0%95%EB%A6%AC) <br/><br/>\n",
    "3. 다음 주소는 [여기][1]서 참조하시오. [구글주소][2]. -> 이건 안되는데..?<br/>\n",
    "[1]https://leedakyeong.tistory.com/entry/Markdown-Jupyter-Notebook-%EC%A3%BC%ED%94%BC%ED%84%B0-%EB%85%B8%ED%8A%B8%EB%B6%81-%EB%A7%88%ED%81%AC%EB%8B%A4%EC%9A%B4-%EC%A0%95%EB%A6%AC<br/>\n",
    "[2]https://google.com"
   ]
  },
  {
   "cell_type": "markdown",
   "id": "725a2662-667d-4cc5-a790-18cd8900845f",
   "metadata": {},
   "source": [
    "# 6. 이미지 연습\n",
    "\n",
    "img 태그에 src넣고, width, height, alt(alternative output when an error occurrs)\n",
    "\n",
    "<img src=\"data:image/png;base64,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\" width=\"500px\" height=\"100px\" title=\"카카오브레인\" alt=\"보내줘\"> ㅋㅋ </image>"
   ]
  },
  {
   "cell_type": "markdown",
   "id": "c58d3dd7-2cf4-4043-a377-ecc09de79c9f",
   "metadata": {},
   "source": [
    "# 7. 코드 넣기\n",
    "\n",
    "python<br/>\n",
    "```python\n",
    "def solution(A):\n",
    "    count = 0\n",
    "    for a in A:\n",
    "        count += 1\n",
    "    return count\n",
    "```\n",
    "\n",
    "golang<br/>\n",
    "```go\n",
    "func solution(A []string) int {\n",
    "    var count int\n",
    "    for idx:=0; idx<len(A); idx++ {\n",
    "        count ++\n",
    "    }\n",
    "    return count\n",
    "}\n",
    "```"
   ]
  },
  {
   "cell_type": "markdown",
   "id": "1cbc5626-fe0d-4ed8-a67d-ca512bef445b",
   "metadata": {},
   "source": [
    "# 8. 텍 넣기\n",
    "\n",
    "$ f(x) = {1 \\over \\sigma\\sqrt{2\\pi}}e^{-{1 \\over 2}({x-\\mu \\over \\sigma})} $"
   ]
  },
  {
   "cell_type": "code",
   "execution_count": null,
   "id": "0281b8c7-8749-4f54-83cd-7f800d7c56e5",
   "metadata": {},
   "outputs": [],
   "source": []
  }
 ],
 "metadata": {
  "kernelspec": {
   "display_name": "Python 3 (ipykernel)",
   "language": "python",
   "name": "python3"
  },
  "language_info": {
   "codemirror_mode": {
    "name": "ipython",
    "version": 3
   },
   "file_extension": ".py",
   "mimetype": "text/x-python",
   "name": "python",
   "nbconvert_exporter": "python",
   "pygments_lexer": "ipython3",
   "version": "3.9.19"
  }
 },
 "nbformat": 4,
 "nbformat_minor": 5
}
